{
 "cells": [
  {
   "cell_type": "markdown",
   "metadata": {},
   "source": [
    "### **References**\n",
    "- [https://platform.openai.com/docs/quickstart?context=python](https://platform.openai.com/docs/quickstart?context=python)\n",
    "- [https://www.youtube.com/watch?v=c-g6epk3fFE](https://www.youtube.com/watch?v=c-g6epk3fFE)\n",
    "- [https://www.gradio.app/docs/textbox](https://www.gradio.app/docs/textbox)"
   ]
  },
  {
   "cell_type": "markdown",
   "metadata": {},
   "source": [
    "### **Setup**"
   ]
  },
  {
   "cell_type": "code",
   "execution_count": 15,
   "metadata": {},
   "outputs": [],
   "source": [
    "# !py -m pip install openai\n",
    "# !py -m pip install gradio\n",
    "# !python -m venv openai-env\n",
    "# !openai-env\\Scripts\\activate\n",
    "# !setx OPENAI_API_KEY \"YOUR_API_KEY\""
   ]
  },
  {
   "cell_type": "markdown",
   "metadata": {},
   "source": [
    "### **Quickstart**"
   ]
  },
  {
   "cell_type": "code",
   "execution_count": 1,
   "metadata": {},
   "outputs": [],
   "source": [
    "from openai import OpenAI\n",
    "import os"
   ]
  },
  {
   "cell_type": "code",
   "execution_count": 3,
   "metadata": {},
   "outputs": [],
   "source": [
    "client = OpenAI()\n",
    "OpenAI.api_key = os.getenv('OPENAI_API_KEY')"
   ]
  },
  {
   "cell_type": "code",
   "execution_count": 5,
   "metadata": {},
   "outputs": [
    {
     "name": "stdout",
     "output_type": "stream",
     "text": [
      "ChatCompletion(id='chatcmpl-95t8IgbycV3PmWurqRZfwZ3pEZHal', choices=[Choice(finish_reason='stop', index=0, logprobs=None, message=ChatCompletionMessage(content='The circumference of the moon is approximately 10,921 km.', role='assistant', function_call=None, tool_calls=None))], created=1711190598, model='gpt-3.5-turbo-0125', object='chat.completion', system_fingerprint='fp_3bc1b5746c', usage=CompletionUsage(completion_tokens=13, prompt_tokens=16, total_tokens=29))\n"
     ]
    }
   ],
   "source": [
    "completion = client.chat.completions.create(\n",
    "    model='gpt-3.5-turbo',\n",
    "    # user/assistant/system\n",
    "    messages=[{ 'role': 'user', 'content': 'What is the circumference of the moon in km' }]\n",
    ")\n",
    "\n",
    "print(completion)\n",
    "\n",
    "# ChatCompletion(\n",
    "#     id='chatcmpl-95t8IgbycV3PmWurqRZfwZ3pEZHal', \n",
    "#     choices=[Choice(\n",
    "#                 finish_reason='stop', \n",
    "#                 index=0, \n",
    "#                 logprobs=None, \n",
    "#                 message=ChatCompletionMessage(\n",
    "#                     content='The circumference of the moon is approximately 10,921 km.',\n",
    "#                     role='assistant', \n",
    "#                     function_call=None, \n",
    "#                     tool_calls=None))\n",
    "#             ], \n",
    "#     created=1711190598, \n",
    "#     model='gpt-3.5-turbo-0125',\n",
    "#     object='chat.completion',\n",
    "#     system_fingerprint='fp_3bc1b5746c',\n",
    "#     usage=CompletionUsage(\n",
    "#         completion_tokens=13,\n",
    "#         prompt_tokens=16,\n",
    "#         total_tokens=29)\n",
    "# )"
   ]
  },
  {
   "cell_type": "code",
   "execution_count": 7,
   "metadata": {},
   "outputs": [
    {
     "name": "stdout",
     "output_type": "stream",
     "text": [
      "The circumference of the moon is approximately 10,921 km.\n"
     ]
    }
   ],
   "source": [
    "reply_content = completion.choices[0].message.content\n",
    "print(reply_content)"
   ]
  },
  {
   "cell_type": "markdown",
   "metadata": {},
   "source": [
    "### **History and dynamic input**"
   ]
  },
  {
   "cell_type": "code",
   "execution_count": 8,
   "metadata": {},
   "outputs": [
    {
     "name": "stdout",
     "output_type": "stream",
     "text": [
      "User's input was: What is the circumference of the moon in km\n"
     ]
    }
   ],
   "source": [
    "message_history = []\n",
    "user_input = input('>: ')\n",
    "\n",
    "print(\"User's input was:\", user_input)\n"
   ]
  },
  {
   "cell_type": "code",
   "execution_count": 9,
   "metadata": {},
   "outputs": [],
   "source": [
    "message_history.append({ 'role': 'user', 'content': user_input })"
   ]
  },
  {
   "cell_type": "code",
   "execution_count": 12,
   "metadata": {},
   "outputs": [
    {
     "name": "stdout",
     "output_type": "stream",
     "text": [
      "[{'role': 'user', 'content': 'What is the circumference of the moon in km'}, {'role': 'assistant', 'content': 'The circumference of the moon is approximately 10,921 km.'}]\n"
     ]
    }
   ],
   "source": [
    "print(message_history)"
   ]
  },
  {
   "cell_type": "code",
   "execution_count": null,
   "metadata": {},
   "outputs": [],
   "source": [
    "completion = client.chat.completions.create(\n",
    "    model='gpt-3.5-turbo',\n",
    "    # user/assistant/system\n",
    "    messages=message_history\n",
    ")\n",
    "\n",
    "reply_content = completion.choices[0].message.content\n",
    "print(reply_content)"
   ]
  },
  {
   "cell_type": "code",
   "execution_count": 10,
   "metadata": {},
   "outputs": [],
   "source": [
    "message_history.append({ 'role': 'assistant', 'content': reply_content })"
   ]
  },
  {
   "cell_type": "markdown",
   "metadata": {},
   "source": [
    "### **Define func**"
   ]
  },
  {
   "cell_type": "code",
   "execution_count": 13,
   "metadata": {},
   "outputs": [],
   "source": [
    "message_history = []\n",
    "\n",
    "def chat(inp, role='user'):\n",
    "    message_history.append({ 'role': role, 'content': inp })\n",
    "\n",
    "    completion = client.chat.completions.create(\n",
    "        model='gpt-3.5-turbo',\n",
    "        # user/assistant/system\n",
    "        messages=message_history\n",
    "    )\n",
    "\n",
    "    reply_content = completion.choices[0].message.content\n",
    "    message_history.append({ 'role': 'assistant', 'content': inp })\n",
    "    return reply_content\n",
    "\n",
    "for i in range(2):\n",
    "    user_input = input('>: ')\n",
    "    print(\"User's input was: \", user_input)\n",
    "    print()\n",
    "    # chat(user_input)\n",
    "    print()"
   ]
  }
 ],
 "metadata": {
  "kernelspec": {
   "display_name": "Python 3",
   "language": "python",
   "name": "python3"
  },
  "language_info": {
   "codemirror_mode": {
    "name": "ipython",
    "version": 3
   },
   "file_extension": ".py",
   "mimetype": "text/x-python",
   "name": "python",
   "nbconvert_exporter": "python",
   "pygments_lexer": "ipython3",
   "version": "3.12.2"
  }
 },
 "nbformat": 4,
 "nbformat_minor": 2
}
