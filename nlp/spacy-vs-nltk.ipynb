{
 "cells": [
  {
   "cell_type": "code",
   "execution_count": 2,
   "metadata": {},
   "outputs": [],
   "source": [
    "import spacy"
   ]
  },
  {
   "cell_type": "code",
   "execution_count": 5,
   "metadata": {},
   "outputs": [],
   "source": [
    "nlp = spacy.load('en_core_web_sm')"
   ]
  },
  {
   "cell_type": "code",
   "execution_count": 11,
   "metadata": {},
   "outputs": [],
   "source": [
    "data = 'Dr. Stephen Strange, beter known as Docter Strange, is one of Marvil Comics most enigmetic and powrful characters. Created by writer Stan Lee and artist Steve Ditko, Doctor Strange made his frst appearence in Strange Tales #110 in 1963.'"
   ]
  },
  {
   "cell_type": "code",
   "execution_count": 12,
   "metadata": {},
   "outputs": [
    {
     "name": "stdout",
     "output_type": "stream",
     "text": [
      "Dr. Stephen Strange, beter known as Docter Strange, is one of Marvil Comics most enigmetic and powrful characters.\n",
      "Created by writer Stan Lee and artist Steve Ditko, Doctor Strange made his frst appearence in Strange Tales #110 in 1963.\n"
     ]
    }
   ],
   "source": [
    "doc = nlp(data)\n",
    "\n",
    "for sentence in doc.sents:\n",
    "    print(sentence)"
   ]
  },
  {
   "cell_type": "markdown",
   "metadata": {},
   "source": [
    "The sentence split by dot symbol, but the Dr. will be ignore cuz it is not a sentence"
   ]
  },
  {
   "cell_type": "code",
   "execution_count": 14,
   "metadata": {},
   "outputs": [
    {
     "name": "stdout",
     "output_type": "stream",
     "text": [
      "Dr.\n",
      "Stephen\n",
      "Strange\n",
      ",\n",
      "beter\n",
      "known\n",
      "as\n",
      "Docter\n",
      "Strange\n",
      ",\n",
      "is\n",
      "one\n",
      "of\n",
      "Marvil\n",
      "Comics\n",
      "most\n",
      "enigmetic\n",
      "and\n",
      "powrful\n",
      "characters\n",
      ".\n",
      "Created\n",
      "by\n",
      "writer\n",
      "Stan\n",
      "Lee\n",
      "and\n",
      "artist\n",
      "Steve\n",
      "Ditko\n",
      ",\n",
      "Doctor\n",
      "Strange\n",
      "made\n",
      "his\n",
      "frst\n",
      "appearence\n",
      "in\n",
      "Strange\n",
      "Tales\n",
      "#\n",
      "110\n",
      "in\n",
      "1963\n",
      ".\n"
     ]
    }
   ],
   "source": [
    "for sentence in doc.sents:\n",
    "    for word in sentence:\n",
    "        print(word)"
   ]
  },
  {
   "cell_type": "markdown",
   "metadata": {},
   "source": [
    "The spacy using oop (object-oriented programing)"
   ]
  },
  {
   "cell_type": "code",
   "execution_count": 21,
   "metadata": {},
   "outputs": [],
   "source": [
    "from nltk.tokenize import sent_tokenize\n",
    "from nltk.tokenize import word_tokenize"
   ]
  },
  {
   "cell_type": "code",
   "execution_count": 19,
   "metadata": {},
   "outputs": [
    {
     "data": {
      "text/plain": [
       "['Dr. Stephen Strange, beter known as Docter Strange, is one of Marvil Comics most enigmetic and powrful characters.',\n",
       " 'Created by writer Stan Lee and artist Steve Ditko, Doctor Strange made his frst appearence in Strange Tales #110 in 1963.']"
      ]
     },
     "execution_count": 19,
     "metadata": {},
     "output_type": "execute_result"
    }
   ],
   "source": [
    "sent_tokenize(data)"
   ]
  },
  {
   "cell_type": "code",
   "execution_count": 22,
   "metadata": {},
   "outputs": [
    {
     "data": {
      "text/plain": [
       "['Dr.',\n",
       " 'Stephen',\n",
       " 'Strange',\n",
       " ',',\n",
       " 'beter',\n",
       " 'known',\n",
       " 'as',\n",
       " 'Docter',\n",
       " 'Strange',\n",
       " ',',\n",
       " 'is',\n",
       " 'one',\n",
       " 'of',\n",
       " 'Marvil',\n",
       " 'Comics',\n",
       " 'most',\n",
       " 'enigmetic',\n",
       " 'and',\n",
       " 'powrful',\n",
       " 'characters',\n",
       " '.',\n",
       " 'Created',\n",
       " 'by',\n",
       " 'writer',\n",
       " 'Stan',\n",
       " 'Lee',\n",
       " 'and',\n",
       " 'artist',\n",
       " 'Steve',\n",
       " 'Ditko',\n",
       " ',',\n",
       " 'Doctor',\n",
       " 'Strange',\n",
       " 'made',\n",
       " 'his',\n",
       " 'frst',\n",
       " 'appearence',\n",
       " 'in',\n",
       " 'Strange',\n",
       " 'Tales',\n",
       " '#',\n",
       " '110',\n",
       " 'in',\n",
       " '1963',\n",
       " '.']"
      ]
     },
     "execution_count": 22,
     "metadata": {},
     "output_type": "execute_result"
    }
   ],
   "source": [
    "word_tokenize(data)"
   ]
  },
  {
   "cell_type": "markdown",
   "metadata": {},
   "source": [
    "#### **Compare**"
   ]
  },
  {
   "cell_type": "markdown",
   "metadata": {},
   "source": [
    "| Spacy | NLTK |\n",
    "| - | - |\n",
    "| OOP | String processing lib |\n",
    "| Provides most effecient NLP algorithm for a given task. Hence if you care about the result, go with Spacy | Provides access to many algorithms. If you care about specific algo and customizations go with NLTK |\n",
    "| Perfect for app developers | Perfect for researchers |\n",
    "| New library, big user comunity | Old library, not active as Spacy |"
   ]
  }
 ],
 "metadata": {
  "kernelspec": {
   "display_name": "Python 3",
   "language": "python",
   "name": "python3"
  },
  "language_info": {
   "codemirror_mode": {
    "name": "ipython",
    "version": 3
   },
   "file_extension": ".py",
   "mimetype": "text/x-python",
   "name": "python",
   "nbconvert_exporter": "python",
   "pygments_lexer": "ipython3",
   "version": "3.12.2"
  }
 },
 "nbformat": 4,
 "nbformat_minor": 2
}
