{
 "cells": [
  {
   "cell_type": "markdown",
   "metadata": {},
   "source": [
    "### **Number**"
   ]
  },
  {
   "cell_type": "code",
   "execution_count": 1,
   "metadata": {},
   "outputs": [
    {
     "name": "stdout",
     "output_type": "stream",
     "text": [
      "5 is of type <class 'int'>\n",
      "6.18 is of type <class 'float'>\n",
      "(8+2j) is of type <class 'complex'>\n"
     ]
    }
   ],
   "source": [
    "num1 = 5\n",
    "print(num1, 'is of type', type(num1))\n",
    "\n",
    "num2 = 6.18\n",
    "print(num2, 'is of type', type(num2))\n",
    "\n",
    "num3 = 8+2j\n",
    "print(num3, 'is of type', type(num3))"
   ]
  },
  {
   "cell_type": "code",
   "execution_count": 2,
   "metadata": {},
   "outputs": [
    {
     "name": "stdout",
     "output_type": "stream",
     "text": [
      "107\n",
      "253\n",
      "13\n"
     ]
    }
   ],
   "source": [
    "print(0b1101011)\n",
    "\n",
    "print(0xFB + 0b10)\n",
    "\n",
    "print(0o15)"
   ]
  },
  {
   "cell_type": "markdown",
   "metadata": {},
   "source": [
    "### **Convert**"
   ]
  },
  {
   "cell_type": "code",
   "execution_count": 3,
   "metadata": {},
   "outputs": [
    {
     "name": "stdout",
     "output_type": "stream",
     "text": [
      "Before converting: <class 'int'>\n",
      "After float converting: <class 'float'>\n",
      "After string converting: <class 'str'>\n",
      "3\n",
      "3.0\n",
      "3\n"
     ]
    }
   ],
   "source": [
    "convert_a = 3\n",
    "print('Before converting:', type(convert_a))\n",
    "\n",
    "convert_b = float(convert_a)\n",
    "print('After float converting:', type(convert_b))\n",
    "\n",
    "convert_c = str(convert_a)\n",
    "print('After string converting:', type(convert_c))\n",
    "\n",
    "print(convert_a)\n",
    "print(convert_b)\n",
    "print(convert_c)"
   ]
  },
  {
   "cell_type": "markdown",
   "metadata": {},
   "source": [
    "### **String**"
   ]
  },
  {
   "cell_type": "code",
   "execution_count": 4,
   "metadata": {},
   "outputs": [
    {
     "name": "stdout",
     "output_type": "stream",
     "text": [
      "Hello\n",
      "World!\n",
      "Multi line string\n",
      "Here is line 2\n",
      "H\n",
      "o\n",
      "Hel\n",
      "olleH\n",
      "leH\n",
      "Hello World!\n"
     ]
    }
   ],
   "source": [
    "string1 = \"Hello\"\n",
    "string2 = 'World!'\n",
    "string3 = '''Multi line string\n",
    "Here is line 2'''\n",
    "\n",
    "print(string1)\n",
    "print(string2)\n",
    "print(string3)\n",
    "print(string1[0])\n",
    "print(string1[-1])\n",
    "print(string1[0:3])\n",
    "print(string1[::-1])\n",
    "print(string1[0:3][::-1])\n",
    "print(string1 + ' ' + string2)"
   ]
  },
  {
   "cell_type": "code",
   "execution_count": 5,
   "metadata": {},
   "outputs": [
    {
     "name": "stdout",
     "output_type": "stream",
     "text": [
      "HELLO\n",
      "Hello\n",
      "eello\n",
      "Heffo\n"
     ]
    }
   ],
   "source": [
    "print(string1.upper())\n",
    "print(string1.capitalize())\n",
    "print(string1.replace('H', 'e'))\n",
    "print(string1.replace('l', 'f'))"
   ]
  },
  {
   "cell_type": "code",
   "execution_count": 6,
   "metadata": {},
   "outputs": [
    {
     "name": "stdout",
     "output_type": "stream",
     "text": [
      "This is string1: Hello\n",
      "This is string1: HELLO\n",
      "This is string1: HELLO\n",
      "This is string Hello abc Hello\n"
     ]
    }
   ],
   "source": [
    "print('This is string1:', string1)\n",
    "print(f'This is string1: {string1.upper()}')\n",
    "print('This is string1: {}'.format(string1.upper()))\n",
    "print('This is string {} abc {}'.format(string1, string1))"
   ]
  },
  {
   "cell_type": "markdown",
   "metadata": {},
   "source": [
    "### **List**"
   ]
  },
  {
   "cell_type": "code",
   "execution_count": 7,
   "metadata": {},
   "outputs": [
    {
     "name": "stdout",
     "output_type": "stream",
     "text": [
      "Length: 6\n",
      "Raw: [1, 'Hello', 3.0, 2, 'World!', 66]\n",
      "Change ele: [2, 'Hello', 3.0, 2, 'World!', 66]\n",
      "Remove: [2, 3.0, 2, 'World!', 66]\n",
      "Pop: [3.0, 2, 'World!', 66]\n",
      "Slice: ['World!', 66]\n",
      "List comprehension: ['BANANA', 'apple', 'CHERRY']\n"
     ]
    }
   ],
   "source": [
    "my_list = [1, \"Hello\", 3.0, 2, \"World!\", 66]\n",
    "print('Length:', len(my_list))\n",
    "print('Raw:', my_list)\n",
    "\n",
    "my_list[0] = 2\n",
    "print('Change ele:', my_list)\n",
    "\n",
    "my_list.remove(\"Hello\")\n",
    "print('Remove:', my_list)\n",
    "\n",
    "my_list.pop(0)\n",
    "print('Pop:', my_list)\n",
    "\n",
    "print('Slice:', my_list[-2:])\n",
    "\n",
    "my_list1 = ['banana', 'apple', 'cherry']\n",
    "# my_list1 = [fruit.upper() for fruit in my_list1]\n",
    "my_list1 = [fruit.upper() if len(fruit) > 5 else fruit for fruit in my_list1]\n",
    "print('List comprehension:', my_list1)\n"
   ]
  },
  {
   "cell_type": "markdown",
   "metadata": {},
   "source": [
    "### **Tuple**"
   ]
  },
  {
   "cell_type": "code",
   "execution_count": 8,
   "metadata": {},
   "outputs": [
    {
     "name": "stdout",
     "output_type": "stream",
     "text": [
      "(1, 'Hello', 3.0, 6, 7, 8)\n"
     ]
    }
   ],
   "source": [
    "my_tuple = (1, \"Hello\", 3.0, 6, 7, 8)\n",
    "print(my_tuple)\n",
    "\n",
    "# Same with list but can not change ele value\n",
    "# my_tuple[0] = 2"
   ]
  },
  {
   "cell_type": "markdown",
   "metadata": {},
   "source": [
    "### **Set**"
   ]
  },
  {
   "cell_type": "code",
   "execution_count": 9,
   "metadata": {},
   "outputs": [
    {
     "name": "stdout",
     "output_type": "stream",
     "text": [
      "{1, 3.0, 'Hello', 6, 7}\n"
     ]
    }
   ],
   "source": [
    "my_set = {1, \"Hello\", 3.0, 6, 7, 7, 7, 6}\n",
    "print(my_set)\n",
    "\n",
    "# Unique value list, can not change ele value as well\n",
    "# my_set[0] = 2"
   ]
  },
  {
   "cell_type": "markdown",
   "metadata": {},
   "source": [
    "### **Dictionary**"
   ]
  },
  {
   "cell_type": "code",
   "execution_count": 10,
   "metadata": {},
   "outputs": [
    {
     "name": "stdout",
     "output_type": "stream",
     "text": [
      "{'item1': 'value1', 'item2': 'value2', 'item3': 'value3'}\n",
      "value2\n",
      "None\n",
      "NaN\n",
      "key: item1, value: value1\n",
      "key: item2, value: value2\n",
      "key: item3, value: value3\n"
     ]
    }
   ],
   "source": [
    "my_dic = {\n",
    "    \"item1\": \"value1\",\n",
    "    \"item2\": \"value2\",\n",
    "    \"item3\": \"value3\",\n",
    "}\n",
    "print(my_dic)\n",
    "\n",
    "print(my_dic['item2'])\n",
    "# print(my_dic['item8']) - error\n",
    "\n",
    "print(my_dic.get('item8'))\n",
    "print(my_dic.get('item8', 'NaN'))\n",
    "\n",
    "my_dic.keys()\n",
    "my_dic.values()\n",
    "my_dic.items()\n",
    "\n",
    "for k, v in my_dic.items():\n",
    "    print(f'key: {k}, value: {v}')"
   ]
  },
  {
   "cell_type": "code",
   "execution_count": 11,
   "metadata": {},
   "outputs": [
    {
     "name": "stdout",
     "output_type": "stream",
     "text": [
      "{(0, 3): 2, (0, 4): 3}\n",
      "3\n"
     ]
    }
   ],
   "source": [
    "my_dic1 = {\n",
    "    (0, 3): 2,\n",
    "    (0, 4): 3\n",
    "}\n",
    "print(my_dic1)\n",
    "\n",
    "print(my_dic1.get((0, 4)))"
   ]
  },
  {
   "cell_type": "markdown",
   "metadata": {},
   "source": [
    "### **If Else**"
   ]
  },
  {
   "cell_type": "code",
   "execution_count": 12,
   "metadata": {},
   "outputs": [
    {
     "name": "stdout",
     "output_type": "stream",
     "text": [
      "in if\n"
     ]
    }
   ],
   "source": [
    "temp = 100\n",
    "if (temp > 5):\n",
    "    print('in if')\n",
    "elif (temp > 10):\n",
    "    print('in elif')\n",
    "else:\n",
    "    print('in else')"
   ]
  },
  {
   "cell_type": "code",
   "execution_count": 13,
   "metadata": {},
   "outputs": [
    {
     "name": "stdout",
     "output_type": "stream",
     "text": [
      "90\n"
     ]
    }
   ],
   "source": [
    "temp_a = 10; temp_b = 100\n",
    "temp_c = temp_b-temp_a if temp_b > temp_a else temp_a-temp_b\n",
    "print(temp_c)"
   ]
  },
  {
   "cell_type": "markdown",
   "metadata": {},
   "source": [
    "### **Loop**"
   ]
  },
  {
   "cell_type": "code",
   "execution_count": 14,
   "metadata": {},
   "outputs": [
    {
     "name": "stdout",
     "output_type": "stream",
     "text": [
      "2 x 1 = 2\n",
      "2 x 2 = 4\n",
      "2 x 3 = 6\n",
      "2 x 4 = 8\n",
      "2 x 5 = 10\n",
      "2 x 6 = 12\n",
      "2 x 7 = 14\n",
      "2 x 8 = 16\n",
      "2 x 9 = 18\n"
     ]
    }
   ],
   "source": [
    "# for i in range(10):\n",
    "for i in range(1, 10):\n",
    "    print(f'2 x {i} = {2*i}')"
   ]
  },
  {
   "cell_type": "code",
   "execution_count": 15,
   "metadata": {},
   "outputs": [
    {
     "name": "stdout",
     "output_type": "stream",
     "text": [
      "1\n",
      "2\n",
      "3\n",
      "4\n",
      "5\n",
      "6\n",
      "7\n",
      "8\n",
      "9\n",
      "10\n"
     ]
    }
   ],
   "source": [
    "temp_while = 0\n",
    "while temp_while < 10:\n",
    "    temp_while += 1\n",
    "    print(temp_while)"
   ]
  },
  {
   "cell_type": "code",
   "execution_count": 16,
   "metadata": {},
   "outputs": [
    {
     "name": "stdout",
     "output_type": "stream",
     "text": [
      "skip..\n",
      "skip..\n",
      "skip..\n",
      "skip..\n",
      "skip..\n",
      "5\n"
     ]
    }
   ],
   "source": [
    "for i in range(10):\n",
    "    if i == 5:\n",
    "        print(i)\n",
    "        break;\n",
    "    else:\n",
    "        print('skip..')\n",
    "        continue"
   ]
  },
  {
   "cell_type": "markdown",
   "metadata": {},
   "source": [
    "### **Function**"
   ]
  },
  {
   "cell_type": "code",
   "execution_count": 17,
   "metadata": {},
   "outputs": [
    {
     "name": "stdout",
     "output_type": "stream",
     "text": [
      "8\n",
      "6\n",
      "hello\n",
      "15\n"
     ]
    }
   ],
   "source": [
    "def add(a, b, c=5):\n",
    "    return a+b+c\n",
    "print(add(1,2))\n",
    "print(add(1,2,3))\n",
    "\n",
    "def hello():\n",
    "    print('hello')\n",
    "hello()\n",
    "\n",
    "func = lambda a: a+5\n",
    "print(func(10))\n"
   ]
  },
  {
   "cell_type": "code",
   "execution_count": 18,
   "metadata": {},
   "outputs": [
    {
     "data": {
      "text/plain": [
       "12"
      ]
     },
     "execution_count": 18,
     "metadata": {},
     "output_type": "execute_result"
    }
   ],
   "source": [
    "params = (2,4,6)\n",
    "add(*params)"
   ]
  },
  {
   "cell_type": "code",
   "execution_count": 19,
   "metadata": {},
   "outputs": [
    {
     "data": {
      "text/plain": [
       "9"
      ]
     },
     "execution_count": 19,
     "metadata": {},
     "output_type": "execute_result"
    }
   ],
   "source": [
    "params_dic = {\n",
    "    'a': 2,\n",
    "    'b': 3,\n",
    "    'c': 4\n",
    "}\n",
    "add(**params_dic)"
   ]
  },
  {
   "cell_type": "markdown",
   "metadata": {},
   "source": [
    "### **Class**"
   ]
  },
  {
   "cell_type": "code",
   "execution_count": 20,
   "metadata": {},
   "outputs": [
    {
     "name": "stdout",
     "output_type": "stream",
     "text": [
      "Name: Tan Nguyen , Age: 28 , Gender: True\n",
      "Name: Default , Age: 0 , Gender: True\n"
     ]
    }
   ],
   "source": [
    "class Person:\n",
    "    def __init__(self, name='Default', age=0, gender=True):\n",
    "        self.name = name\n",
    "        self.age = age\n",
    "        self.gender = gender\n",
    "    \n",
    "    def introduce(self):\n",
    "        print('Name:', self.name, ', Age:', self.age, ', Gender:', self.gender)\n",
    "\n",
    "person = Person('Tan Nguyen', 28, True)\n",
    "person.introduce()\n",
    "\n",
    "person1 = Person()\n",
    "person1.introduce()"
   ]
  },
  {
   "cell_type": "code",
   "execution_count": 21,
   "metadata": {},
   "outputs": [
    {
     "name": "stdout",
     "output_type": "stream",
     "text": [
      "eat\n",
      "sleep\n"
     ]
    }
   ],
   "source": [
    "class Animal:\n",
    "    def eat(self):\n",
    "        print(\"eat\")\n",
    "\n",
    "    def sleep(self):\n",
    "        print('sleep')\n",
    "\n",
    "class Dog(Animal):\n",
    "    def bark(self):\n",
    "        print('bark')\n",
    "\n",
    "dog = Dog()\n",
    "dog.eat()\n",
    "dog.sleep()"
   ]
  },
  {
   "cell_type": "code",
   "execution_count": 22,
   "metadata": {},
   "outputs": [
    {
     "name": "stdout",
     "output_type": "stream",
     "text": [
      "Sell: 900\n",
      "Sell: 900\n",
      "Sell: 1000\n"
     ]
    }
   ],
   "source": [
    "class Computer:\n",
    "    def __init__(self):\n",
    "        self.__maxPrice = 900\n",
    "\n",
    "    def sell(self):\n",
    "        print('Sell: {}'.format(self.__maxPrice))\n",
    "\n",
    "    def setMaxPrice(self, price):\n",
    "        self.__maxPrice = price\n",
    "\n",
    "computer = Computer()\n",
    "computer.sell()\n",
    "\n",
    "# not affect\n",
    "computer.__maxPrice = 1000\n",
    "computer.sell()\n",
    "\n",
    "computer.setMaxPrice(1000)\n",
    "computer.sell()"
   ]
  },
  {
   "cell_type": "code",
   "execution_count": 23,
   "metadata": {},
   "outputs": [
    {
     "name": "stdout",
     "output_type": "stream",
     "text": [
      "Square\n",
      "Polygon\n",
      "Circle\n",
      "Polygon\n"
     ]
    }
   ],
   "source": [
    "class Polygon:\n",
    "    def render(self):\n",
    "        print('Polygon')\n",
    "    \n",
    "    def rootShape(self):\n",
    "        print('Polygon')\n",
    "\n",
    "class Square(Polygon):\n",
    "    def render(self):\n",
    "        print('Square')\n",
    "\n",
    "class Circle(Polygon):\n",
    "    def render(self):\n",
    "        print('Circle')\n",
    "\n",
    "square = Square()\n",
    "square.render()\n",
    "square.rootShape()\n",
    "\n",
    "circle = Circle()\n",
    "circle.render()\n",
    "circle.rootShape()"
   ]
  },
  {
   "cell_type": "markdown",
   "metadata": {},
   "source": [
    "### **Module**"
   ]
  },
  {
   "cell_type": "code",
   "execution_count": 24,
   "metadata": {},
   "outputs": [
    {
     "data": {
      "text/plain": [
       "['__doc__',\n",
       " '__loader__',\n",
       " '__name__',\n",
       " '__package__',\n",
       " '__spec__',\n",
       " 'acos',\n",
       " 'acosh',\n",
       " 'asin',\n",
       " 'asinh',\n",
       " 'atan',\n",
       " 'atan2',\n",
       " 'atanh',\n",
       " 'cbrt',\n",
       " 'ceil',\n",
       " 'comb',\n",
       " 'copysign',\n",
       " 'cos',\n",
       " 'cosh',\n",
       " 'degrees',\n",
       " 'dist',\n",
       " 'e',\n",
       " 'erf',\n",
       " 'erfc',\n",
       " 'exp',\n",
       " 'exp2',\n",
       " 'expm1',\n",
       " 'fabs',\n",
       " 'factorial',\n",
       " 'floor',\n",
       " 'fmod',\n",
       " 'frexp',\n",
       " 'fsum',\n",
       " 'gamma',\n",
       " 'gcd',\n",
       " 'hypot',\n",
       " 'inf',\n",
       " 'isclose',\n",
       " 'isfinite',\n",
       " 'isinf',\n",
       " 'isnan',\n",
       " 'isqrt',\n",
       " 'lcm',\n",
       " 'ldexp',\n",
       " 'lgamma',\n",
       " 'log',\n",
       " 'log10',\n",
       " 'log1p',\n",
       " 'log2',\n",
       " 'modf',\n",
       " 'nan',\n",
       " 'nextafter',\n",
       " 'perm',\n",
       " 'pi',\n",
       " 'pow',\n",
       " 'prod',\n",
       " 'radians',\n",
       " 'remainder',\n",
       " 'sin',\n",
       " 'sinh',\n",
       " 'sqrt',\n",
       " 'tan',\n",
       " 'tanh',\n",
       " 'tau',\n",
       " 'trunc',\n",
       " 'ulp']"
      ]
     },
     "execution_count": 24,
     "metadata": {},
     "output_type": "execute_result"
    }
   ],
   "source": [
    "import math\n",
    "# import math as m\n",
    "# from math import pi, floor as f\n",
    "dir(math)"
   ]
  },
  {
   "cell_type": "code",
   "execution_count": 25,
   "metadata": {},
   "outputs": [
    {
     "name": "stdout",
     "output_type": "stream",
     "text": [
      "3.141592653589793\n",
      "1\n"
     ]
    }
   ],
   "source": [
    "print(math.pi)\n",
    "print(math.floor(1.44))"
   ]
  },
  {
   "cell_type": "code",
   "execution_count": 26,
   "metadata": {},
   "outputs": [
    {
     "data": {
      "text/plain": [
       "8"
      ]
     },
     "execution_count": 26,
     "metadata": {},
     "output_type": "execute_result"
    }
   ],
   "source": [
    "import basicSyntaxModule as bsm\n",
    "bsm.add(1,2)\n",
    "bsm.multiple(2,4)"
   ]
  },
  {
   "cell_type": "markdown",
   "metadata": {},
   "source": [
    "### **Numpy**"
   ]
  },
  {
   "cell_type": "code",
   "execution_count": 27,
   "metadata": {},
   "outputs": [],
   "source": [
    "import numpy as np"
   ]
  },
  {
   "cell_type": "code",
   "execution_count": 28,
   "metadata": {},
   "outputs": [
    {
     "name": "stdout",
     "output_type": "stream",
     "text": [
      "[1 2 3 4 5]\n",
      "[ 6  7  8  9 10]\n"
     ]
    }
   ],
   "source": [
    "x = np.array([1,2,3,4,5])\n",
    "print(x)\n",
    "\n",
    "y = np.array([6,7,8,9,10])\n",
    "print(y)"
   ]
  },
  {
   "cell_type": "code",
   "execution_count": 29,
   "metadata": {},
   "outputs": [
    {
     "name": "stdout",
     "output_type": "stream",
     "text": [
      "[ 2  4  6  8 10]\n",
      "[ 7  9 11 13 15]\n",
      "[ 6 14 24 36 50]\n"
     ]
    }
   ],
   "source": [
    "print(x*2)\n",
    "print(x+y)\n",
    "print(x*y)"
   ]
  },
  {
   "cell_type": "code",
   "execution_count": 30,
   "metadata": {},
   "outputs": [
    {
     "name": "stdout",
     "output_type": "stream",
     "text": [
      "[[1 2 3]\n",
      " [4 5 6]]\n",
      "---------------\n",
      "[7 8 9]\n"
     ]
    }
   ],
   "source": [
    "np_temp1 = np.array([[1,2,3], [4,5,6]])\n",
    "print(np_temp1)\n",
    "\n",
    "print('-' * 15)\n",
    "\n",
    "np_temp2 = np.array([7,8,9])\n",
    "print(np_temp2)"
   ]
  },
  {
   "cell_type": "code",
   "execution_count": 31,
   "metadata": {},
   "outputs": [
    {
     "name": "stdout",
     "output_type": "stream",
     "text": [
      "[[ 8 10 12]\n",
      " [11 13 15]]\n",
      "---------------\n",
      "[[ 2  4  6]\n",
      " [ 8 10 12]]\n"
     ]
    }
   ],
   "source": [
    "print(np_temp1+np_temp2)\n",
    "print('-' * 15)\n",
    "print(np_temp1*2)"
   ]
  },
  {
   "cell_type": "code",
   "execution_count": 32,
   "metadata": {},
   "outputs": [
    {
     "name": "stdout",
     "output_type": "stream",
     "text": [
      "3.5\n",
      "21\n",
      "6\n",
      "1\n",
      "(2, 3)\n",
      "int32\n"
     ]
    }
   ],
   "source": [
    "print(np_temp1.mean())\n",
    "print(np_temp1.sum())\n",
    "print(np_temp1.max())\n",
    "print(np_temp1.min())\n",
    "print(np_temp1.shape)\n",
    "print(np_temp1.dtype)"
   ]
  },
  {
   "cell_type": "markdown",
   "metadata": {},
   "source": [
    "### **Pandas**"
   ]
  },
  {
   "cell_type": "code",
   "execution_count": 33,
   "metadata": {},
   "outputs": [],
   "source": [
    "import pandas as pd"
   ]
  },
  {
   "cell_type": "code",
   "execution_count": 34,
   "metadata": {},
   "outputs": [
    {
     "name": "stdout",
     "output_type": "stream",
     "text": [
      "    name  age\n",
      "0  Alice   20\n",
      "1    Bob   25\n",
      "2  Carol   30\n",
      "3   Dave   35\n"
     ]
    }
   ],
   "source": [
    "data = {\n",
    "    \"name\": [\"Alice\", \"Bob\", \"Carol\", \"Dave\"],\n",
    "    \"age\": [20, 25, 30, 35]\n",
    "}\n",
    "df = pd.DataFrame(data)\n",
    "print(df)"
   ]
  },
  {
   "cell_type": "code",
   "execution_count": 35,
   "metadata": {},
   "outputs": [
    {
     "name": "stdout",
     "output_type": "stream",
     "text": [
      "0    Alice\n",
      "1      Bob\n",
      "2    Carol\n",
      "3     Dave\n",
      "Name: name, dtype: object\n",
      "---------------\n",
      "20\n"
     ]
    }
   ],
   "source": [
    "print(df[\"name\"])\n",
    "print('-' * 15)\n",
    "print(df.loc[0, \"age\"])"
   ]
  },
  {
   "cell_type": "code",
   "execution_count": 36,
   "metadata": {},
   "outputs": [
    {
     "name": "stdout",
     "output_type": "stream",
     "text": [
      "    name  age  new_column\n",
      "0  Alice   20          30\n",
      "1    Bob   25          35\n",
      "2  Carol   30          40\n",
      "3   Dave   35          45\n",
      "---------------\n",
      "    name  age\n",
      "0  Alice   20\n",
      "1    Bob   25\n",
      "2  Carol   30\n",
      "3   Dave   35\n",
      "---------------\n",
      "    Name  Age\n",
      "0  Alice   20\n",
      "1    Bob   25\n",
      "2  Carol   30\n",
      "3   Dave   35\n",
      "---------------\n",
      "    Name  Age\n",
      "3   Dave   35\n",
      "2  Carol   30\n",
      "1    Bob   25\n",
      "0  Alice   20\n"
     ]
    }
   ],
   "source": [
    "df[\"new_column\"] = df[\"age\"] + 10\n",
    "print(df)\n",
    "\n",
    "print('-' * 15)\n",
    "\n",
    "df = df.drop(\"new_column\", axis=1)\n",
    "print(df)\n",
    "\n",
    "print('-' * 15)\n",
    "\n",
    "df = df.rename(columns={\"name\": \"Name\", \"age\": \"Age\"})\n",
    "print(df)\n",
    "\n",
    "print('-' * 15)\n",
    "\n",
    "df = df.sort_values(by=\"Age\", ascending=False)\n",
    "print(df)"
   ]
  },
  {
   "cell_type": "code",
   "execution_count": 37,
   "metadata": {},
   "outputs": [
    {
     "name": "stdout",
     "output_type": "stream",
     "text": [
      "    Name   Age\n",
      "3   Dave  35.0\n",
      "2  Carol  30.0\n",
      "1    Bob   NaN\n",
      "0  Alice   NaN\n",
      "---------------\n",
      "    Name   Age\n",
      "3   Dave  35.0\n",
      "2  Carol  30.0\n",
      "1    Bob  30.0\n",
      "0  Alice  30.0\n",
      "---------------\n",
      "    Name   Age\n",
      "3   Dave  35.0\n",
      "2  Carol  30.0\n",
      "1   None  30.0\n",
      "0   None  30.0\n",
      "---------------\n",
      "    Name   Age\n",
      "3   Dave  35.0\n",
      "2  Carol  30.0\n"
     ]
    },
    {
     "name": "stderr",
     "output_type": "stream",
     "text": [
      "C:\\Users\\PC\\AppData\\Local\\Temp\\ipykernel_3128\\3109519678.py:8: FutureWarning: DataFrame.fillna with 'method' is deprecated and will raise in a future version. Use obj.ffill() or obj.bfill() instead.\n",
      "  df = df.fillna(method=\"ffill\")\n"
     ]
    }
   ],
   "source": [
    "# df[\"Age\"][0] = \"\"\n",
    "df.loc[1, \"Age\"] = None\n",
    "df.loc[0, \"Age\"] = None\n",
    "print(df)\n",
    "\n",
    "print('-' * 15)\n",
    "\n",
    "df = df.fillna(method=\"ffill\")\n",
    "print(df)\n",
    "\n",
    "print('-' * 15)\n",
    "\n",
    "df.loc[1, \"Name\"] = None\n",
    "df.loc[0, \"Name\"] = None\n",
    "print(df)\n",
    "\n",
    "print('-' * 15)\n",
    "\n",
    "df = df.dropna()\n",
    "print(df)"
   ]
  },
  {
   "cell_type": "code",
   "execution_count": 38,
   "metadata": {},
   "outputs": [
    {
     "data": {
      "text/plain": [
       "array([[<Axes: title={'center': 'Age'}>]], dtype=object)"
      ]
     },
     "execution_count": 38,
     "metadata": {},
     "output_type": "execute_result"
    },
    {
     "data": {
      "image/png": "[encoded data removed]",
      "text/plain": [
       "<Figure size 640x480 with 1 Axes>"
      ]
     },
     "metadata": {},
     "output_type": "display_data"
    },
    {
     "data": {
      "image/png": "[encoded data removed]",
      "text/plain": [
       "<Figure size 640x480 with 1 Axes>"
      ]
     },
     "metadata": {},
     "output_type": "display_data"
    }
   ],
   "source": [
    "df.plot()\n",
    "df.hist()"
   ]
  },
  {
   "cell_type": "code",
   "execution_count": 39,
   "metadata": {},
   "outputs": [
    {
     "data": {
      "text/plain": [
       "<Axes: >"
      ]
     },
     "execution_count": 39,
     "metadata": {},
     "output_type": "execute_result"
    },
    {
     "data": {
      "image/png": "[encoded data removed]",
      "text/plain": [
       "<Figure size 640x480 with 1 Axes>"
      ]
     },
     "metadata": {},
     "output_type": "display_data"
    }
   ],
   "source": [
    "df.boxplot()"
   ]
  },
  {
   "cell_type": "markdown",
   "metadata": {},
   "source": [
    "### **Matplotlib & Seaborn**"
   ]
  },
  {
   "cell_type": "code",
   "execution_count": 40,
   "metadata": {},
   "outputs": [
    {
     "ename": "ModuleNotFoundError",
     "evalue": "No module named 'seaborn'",
     "output_type": "error",
     "traceback": [
      "\u001b[1;31m---------------------------------------------------------------------------\u001b[0m",
      "\u001b[1;31mModuleNotFoundError\u001b[0m                       Traceback (most recent call last)",
      "Cell \u001b[1;32mIn[40], line 2\u001b[0m\n\u001b[0;32m      1\u001b[0m \u001b[38;5;28;01mimport\u001b[39;00m \u001b[38;5;21;01mmatplotlib\u001b[39;00m\u001b[38;5;21;01m.\u001b[39;00m\u001b[38;5;21;01mpyplot\u001b[39;00m \u001b[38;5;28;01mas\u001b[39;00m \u001b[38;5;21;01mplt\u001b[39;00m\n\u001b[1;32m----> 2\u001b[0m \u001b[38;5;28;01mimport\u001b[39;00m \u001b[38;5;21;01mseaborn\u001b[39;00m \u001b[38;5;28;01mas\u001b[39;00m \u001b[38;5;21;01msns\u001b[39;00m\n",
      "\u001b[1;31mModuleNotFoundError\u001b[0m: No module named 'seaborn'"
     ]
    }
   ],
   "source": [
    "import matplotlib.pyplot as plt\n",
    "import seaborn as sns"
   ]
  },
  {
   "cell_type": "code",
   "execution_count": null,
   "metadata": {},
   "outputs": [],
   "source": [
    "data = sns.load_dataset(\"tips\")"
   ]
  },
  {
   "cell_type": "code",
   "execution_count": null,
   "metadata": {},
   "outputs": [
    {
     "data": {
      "text/html": [
       "<div>\n",
       "<style scoped>\n",
       "    .dataframe tbody tr th:only-of-type {\n",
       "        vertical-align: middle;\n",
       "    }\n",
       "\n",
       "    .dataframe tbody tr th {\n",
       "        vertical-align: top;\n",
       "    }\n",
       "\n",
       "    .dataframe thead th {\n",
       "        text-align: right;\n",
       "    }\n",
       "</style>\n",
       "<table border=\"1\" class=\"dataframe\">\n",
       "  <thead>\n",
       "    <tr style=\"text-align: right;\">\n",
       "      <th></th>\n",
       "      <th>total_bill</th>\n",
       "      <th>tip</th>\n",
       "      <th>sex</th>\n",
       "      <th>smoker</th>\n",
       "      <th>day</th>\n",
       "      <th>time</th>\n",
       "      <th>size</th>\n",
       "    </tr>\n",
       "  </thead>\n",
       "  <tbody>\n",
       "    <tr>\n",
       "      <th>0</th>\n",
       "      <td>16.99</td>\n",
       "      <td>1.01</td>\n",
       "      <td>Female</td>\n",
       "      <td>No</td>\n",
       "      <td>Sun</td>\n",
       "      <td>Dinner</td>\n",
       "      <td>2</td>\n",
       "    </tr>\n",
       "    <tr>\n",
       "      <th>1</th>\n",
       "      <td>10.34</td>\n",
       "      <td>1.66</td>\n",
       "      <td>Male</td>\n",
       "      <td>No</td>\n",
       "      <td>Sun</td>\n",
       "      <td>Dinner</td>\n",
       "      <td>3</td>\n",
       "    </tr>\n",
       "    <tr>\n",
       "      <th>2</th>\n",
       "      <td>21.01</td>\n",
       "      <td>3.50</td>\n",
       "      <td>Male</td>\n",
       "      <td>No</td>\n",
       "      <td>Sun</td>\n",
       "      <td>Dinner</td>\n",
       "      <td>3</td>\n",
       "    </tr>\n",
       "    <tr>\n",
       "      <th>3</th>\n",
       "      <td>23.68</td>\n",
       "      <td>3.31</td>\n",
       "      <td>Male</td>\n",
       "      <td>No</td>\n",
       "      <td>Sun</td>\n",
       "      <td>Dinner</td>\n",
       "      <td>2</td>\n",
       "    </tr>\n",
       "    <tr>\n",
       "      <th>4</th>\n",
       "      <td>24.59</td>\n",
       "      <td>3.61</td>\n",
       "      <td>Female</td>\n",
       "      <td>No</td>\n",
       "      <td>Sun</td>\n",
       "      <td>Dinner</td>\n",
       "      <td>4</td>\n",
       "    </tr>\n",
       "    <tr>\n",
       "      <th>...</th>\n",
       "      <td>...</td>\n",
       "      <td>...</td>\n",
       "      <td>...</td>\n",
       "      <td>...</td>\n",
       "      <td>...</td>\n",
       "      <td>...</td>\n",
       "      <td>...</td>\n",
       "    </tr>\n",
       "    <tr>\n",
       "      <th>239</th>\n",
       "      <td>29.03</td>\n",
       "      <td>5.92</td>\n",
       "      <td>Male</td>\n",
       "      <td>No</td>\n",
       "      <td>Sat</td>\n",
       "      <td>Dinner</td>\n",
       "      <td>3</td>\n",
       "    </tr>\n",
       "    <tr>\n",
       "      <th>240</th>\n",
       "      <td>27.18</td>\n",
       "      <td>2.00</td>\n",
       "      <td>Female</td>\n",
       "      <td>Yes</td>\n",
       "      <td>Sat</td>\n",
       "      <td>Dinner</td>\n",
       "      <td>2</td>\n",
       "    </tr>\n",
       "    <tr>\n",
       "      <th>241</th>\n",
       "      <td>22.67</td>\n",
       "      <td>2.00</td>\n",
       "      <td>Male</td>\n",
       "      <td>Yes</td>\n",
       "      <td>Sat</td>\n",
       "      <td>Dinner</td>\n",
       "      <td>2</td>\n",
       "    </tr>\n",
       "    <tr>\n",
       "      <th>242</th>\n",
       "      <td>17.82</td>\n",
       "      <td>1.75</td>\n",
       "      <td>Male</td>\n",
       "      <td>No</td>\n",
       "      <td>Sat</td>\n",
       "      <td>Dinner</td>\n",
       "      <td>2</td>\n",
       "    </tr>\n",
       "    <tr>\n",
       "      <th>243</th>\n",
       "      <td>18.78</td>\n",
       "      <td>3.00</td>\n",
       "      <td>Female</td>\n",
       "      <td>No</td>\n",
       "      <td>Thur</td>\n",
       "      <td>Dinner</td>\n",
       "      <td>2</td>\n",
       "    </tr>\n",
       "  </tbody>\n",
       "</table>\n",
       "<p>244 rows × 7 columns</p>\n",
       "</div>"
      ],
      "text/plain": [
       "     total_bill   tip     sex smoker   day    time  size\n",
       "0         16.99  1.01  Female     No   Sun  Dinner     2\n",
       "1         10.34  1.66    Male     No   Sun  Dinner     3\n",
       "2         21.01  3.50    Male     No   Sun  Dinner     3\n",
       "3         23.68  3.31    Male     No   Sun  Dinner     2\n",
       "4         24.59  3.61  Female     No   Sun  Dinner     4\n",
       "..          ...   ...     ...    ...   ...     ...   ...\n",
       "239       29.03  5.92    Male     No   Sat  Dinner     3\n",
       "240       27.18  2.00  Female    Yes   Sat  Dinner     2\n",
       "241       22.67  2.00    Male    Yes   Sat  Dinner     2\n",
       "242       17.82  1.75    Male     No   Sat  Dinner     2\n",
       "243       18.78  3.00  Female     No  Thur  Dinner     2\n",
       "\n",
       "[244 rows x 7 columns]"
      ]
     },
     "execution_count": 170,
     "metadata": {},
     "output_type": "execute_result"
    }
   ],
   "source": [
    "data"
   ]
  },
  {
   "cell_type": "code",
   "execution_count": null,
   "metadata": {},
   "outputs": [
    {
     "data": {
      "text/plain": [
       "<matplotlib.collections.PathCollection at 0x1d1984a1700>"
      ]
     },
     "execution_count": 171,
     "metadata": {},
     "output_type": "execute_result"
    },
    {
     "data": {
      "image/png": "[encoded data removed]",
      "text/plain": [
       "<Figure size 640x480 with 1 Axes>"
      ]
     },
     "metadata": {},
     "output_type": "display_data"
    }
   ],
   "source": [
    "plt.scatter(data['day'], data['total_bill'])"
   ]
  },
  {
   "cell_type": "code",
   "execution_count": null,
   "metadata": {},
   "outputs": [
    {
     "data": {
      "text/plain": [
       "<Axes: xlabel='total_bill', ylabel='tip'>"
      ]
     },
     "execution_count": 172,
     "metadata": {},
     "output_type": "execute_result"
    },
    {
     "data": {
      "image/png": "[encoded data removed]",
      "text/plain": [
       "<Figure size 640x480 with 1 Axes>"
      ]
     },
     "metadata": {},
     "output_type": "display_data"
    }
   ],
   "source": [
    "sns.scatterplot(data=data, x=\"total_bill\", y=\"tip\")"
   ]
  },
  {
   "cell_type": "code",
   "execution_count": null,
   "metadata": {},
   "outputs": [
    {
     "data": {
      "text/plain": [
       "<Axes: xlabel='day', ylabel='tip'>"
      ]
     },
     "execution_count": 173,
     "metadata": {},
     "output_type": "execute_result"
    },
    {
     "data": {
      "image/png": "[encoded data removed]",
      "text/plain": [
       "<Figure size 640x480 with 1 Axes>"
      ]
     },
     "metadata": {},
     "output_type": "display_data"
    }
   ],
   "source": [
    "sns.barplot(data=data, x='day', y='tip')"
   ]
  },
  {
   "cell_type": "code",
   "execution_count": null,
   "metadata": {},
   "outputs": [
    {
     "data": {
      "text/plain": [
       "<Axes: xlabel='tip', ylabel='Count'>"
      ]
     },
     "execution_count": 174,
     "metadata": {},
     "output_type": "execute_result"
    },
    {
     "data": {
      "image/png": "[encoded data removed]",
      "text/plain": [
       "<Figure size 640x480 with 1 Axes>"
      ]
     },
     "metadata": {},
     "output_type": "display_data"
    }
   ],
   "source": [
    "sns.histplot(data=data, x='tip')"
   ]
  },
  {
   "cell_type": "code",
   "execution_count": null,
   "metadata": {},
   "outputs": [
    {
     "data": {
      "text/plain": [
       "<Axes: xlabel='day', ylabel='tip'>"
      ]
     },
     "execution_count": 175,
     "metadata": {},
     "output_type": "execute_result"
    },
    {
     "data": {
      "image/png": "[encoded data removed]",
      "text/plain": [
       "<Figure size 640x480 with 1 Axes>"
      ]
     },
     "metadata": {},
     "output_type": "display_data"
    }
   ],
   "source": [
    "sns.boxplot(data=data, x='day', y='tip')"
   ]
  }
 ],
 "metadata": {
  "kernelspec": {
   "display_name": "Python 3",
   "language": "python",
   "name": "python3"
  },
  "language_info": {
   "codemirror_mode": {
    "name": "ipython",
    "version": 3
   },
   "file_extension": ".py",
   "mimetype": "text/x-python",
   "name": "python",
   "nbconvert_exporter": "python",
   "pygments_lexer": "ipython3",
   "version": "3.11.8"
  }
 },
 "nbformat": 4,
 "nbformat_minor": 2
}
