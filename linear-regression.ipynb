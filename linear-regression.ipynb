{
 "cells": [
  {
   "cell_type": "markdown",
   "metadata": {},
   "source": [
    "### **References**\n",
    "- [https://viblo.asia/p/linear-regression-hoi-quy-tuyen-tinh-trong-machine-learning-4P856akRlY3](https://viblo.asia/p/linear-regression-hoi-quy-tuyen-tinh-trong-machine-learning-4P856akRlY3)\n",
    "- [https://www.dathoangblog.com/2018/07/linear-regression-mot-bien.html](https://www.dathoangblog.com/2018/07/linear-regression-mot-bien.html)\n",
    "- [https://www.wikihow.vn/T%C3%ADnh-%C4%90%E1%BB%99-l%E1%BB%87ch-Chu%E1%BA%A9n](https://www.wikihow.vn/T%C3%ADnh-%C4%90%E1%BB%99-l%E1%BB%87ch-Chu%E1%BA%A9n)\n",
    "- [https://machinelearningcoban.com/2016/12/28/linearregression/](https://machinelearningcoban.com/2016/12/28/linearregression/)"
   ]
  },
  {
   "cell_type": "markdown",
   "metadata": {},
   "source": [
    "### **Example**"
   ]
  },
  {
   "cell_type": "code",
   "execution_count": 1,
   "metadata": {},
   "outputs": [
    {
     "name": "stdout",
     "output_type": "stream",
     "text": [
      "    x   y\n",
      "0   1   2\n",
      "1   2   1\n",
      "2   3   3\n",
      "3   4   6\n",
      "4   5   9\n",
      "5   6  11\n",
      "6   7  13\n",
      "7   8  15\n",
      "8   9  17\n",
      "9  10  20\n"
     ]
    }
   ],
   "source": [
    "import pandas as pd\n",
    "import matplotlib.pyplot as plt\n",
    "import math as m\n",
    "\n",
    "test_data = pd.DataFrame({'x': [1,2,3,4,5,6,7,8,9,10], 'y': [2,1,3,6,9,11,13,15,17,20]})\n",
    "print(test_data)"
   ]
  },
  {
   "cell_type": "code",
   "execution_count": 2,
   "metadata": {},
   "outputs": [
    {
     "data": {
      "image/png": "[encoded data removed]",
      "text/plain": [
       "<Figure size 640x480 with 1 Axes>"
      ]
     },
     "metadata": {},
     "output_type": "display_data"
    }
   ],
   "source": [
    "plt.scatter(test_data['x'], test_data['y'])\n",
    "plt.show()"
   ]
  },
  {
   "cell_type": "markdown",
   "metadata": {},
   "source": [
    "Linear Regression 1 parameter, linear equations: $$y=w_0+w_1x$$\n",
    "- *w0: intercept*\n",
    "- *w1: coefficient*\n",
    "\n",
    "Multiple params: $$y=w_0+w_1x_1+w_2x_2+...+w_nx_n$$\n",
    "\n",
    "x, y is the input from test_data. Now need to find a, b to fit the dot chart on above, formula to calculate standard deviation: $$s=\\sqrt{\\frac{\\sum\\left(x_{i}-\\overline{x}\\right)^2}{n-1}}$$"
   ]
  },
  {
   "cell_type": "code",
   "execution_count": 3,
   "metadata": {},
   "outputs": [
    {
     "name": "stdout",
     "output_type": "stream",
     "text": [
      "n: 10\n"
     ]
    }
   ],
   "source": [
    "n = len(test_data)\n",
    "print('n:', n)"
   ]
  },
  {
   "cell_type": "code",
   "execution_count": 4,
   "metadata": {},
   "outputs": [
    {
     "name": "stdout",
     "output_type": "stream",
     "text": [
      "x_mean: 5.5\n"
     ]
    }
   ],
   "source": [
    "x_mean = test_data['x'].mean()\n",
    "print('x_mean:', x_mean)"
   ]
  },
  {
   "cell_type": "code",
   "execution_count": 5,
   "metadata": {},
   "outputs": [
    {
     "name": "stdout",
     "output_type": "stream",
     "text": [
      "y_mean: 9.7\n"
     ]
    }
   ],
   "source": [
    "y_mean = test_data['y'].mean()\n",
    "print('y_mean:', y_mean)"
   ]
  },
  {
   "cell_type": "markdown",
   "metadata": {},
   "source": [
    "Calculate standard deviation of x:"
   ]
  },
  {
   "cell_type": "code",
   "execution_count": 6,
   "metadata": {},
   "outputs": [
    {
     "name": "stdout",
     "output_type": "stream",
     "text": [
      "    x   y   x_ps\n",
      "0   1   2  20.25\n",
      "1   2   1  12.25\n",
      "2   3   3   6.25\n",
      "3   4   6   2.25\n",
      "4   5   9   0.25\n",
      "5   6  11   0.25\n",
      "6   7  13   2.25\n",
      "7   8  15   6.25\n",
      "8   9  17  12.25\n",
      "9  10  20  20.25\n",
      "x_variance: 9.166666666666666\n"
     ]
    }
   ],
   "source": [
    "test_data[\"x_ps\"] = test_data.apply(lambda row: (row['x'] - x_mean) ** 2, axis=1)\n",
    "print(test_data)\n",
    "x_variance = test_data['x_ps'].sum()/(n-1)\n",
    "print('x_variance:', x_variance)"
   ]
  },
  {
   "cell_type": "code",
   "execution_count": 7,
   "metadata": {},
   "outputs": [
    {
     "name": "stdout",
     "output_type": "stream",
     "text": [
      "3.0276503540974917\n"
     ]
    }
   ],
   "source": [
    "x_standard_deviation = m.sqrt(x_variance)\n",
    "print(x_standard_deviation)"
   ]
  },
  {
   "cell_type": "markdown",
   "metadata": {},
   "source": [
    "Calculate standard deviation of y:"
   ]
  },
  {
   "cell_type": "code",
   "execution_count": 8,
   "metadata": {},
   "outputs": [
    {
     "name": "stdout",
     "output_type": "stream",
     "text": [
      "y_standard_deviation: 6.61731734835869\n"
     ]
    }
   ],
   "source": [
    "test_data[\"y_ps\"] = test_data.apply(lambda row: (row['y'] - y_mean) ** 2, axis=1)\n",
    "y_variance = test_data['y_ps'].sum()/(n-1)\n",
    "y_standard_deviation = m.sqrt(y_variance)\n",
    "print('y_standard_deviation:', y_standard_deviation)"
   ]
  },
  {
   "cell_type": "markdown",
   "metadata": {},
   "source": [
    "Correlation coefficient formula: $$p_{xy}=\\frac{Cov\\left(x,y\\right)}{\\sigma_{x}\\sigma_{y}}$$\n",
    "Covariance formula: $$Cov_{xy}=\\frac{\\sum\\left(x_{i}-\\overline{x}\\right)\\left(y_{i}-\\overline{y}\\right)}{n-1}$$\n",
    "Calculate correlation coefficient:"
   ]
  },
  {
   "cell_type": "code",
   "execution_count": 9,
   "metadata": {},
   "outputs": [
    {
     "name": "stdout",
     "output_type": "stream",
     "text": [
      "    x   y   x_ps    y_ps    cov\n",
      "0   1   2  20.25   59.29  34.65\n",
      "1   2   1  12.25   75.69  30.45\n",
      "2   3   3   6.25   44.89  16.75\n",
      "3   4   6   2.25   13.69   5.55\n",
      "4   5   9   0.25    0.49   0.35\n",
      "5   6  11   0.25    1.69   0.65\n",
      "6   7  13   2.25   10.89   4.95\n",
      "7   8  15   6.25   28.09  13.25\n",
      "8   9  17  12.25   53.29  25.55\n",
      "9  10  20  20.25  106.09  46.35\n",
      "cov: 19.833333333333332\n"
     ]
    }
   ],
   "source": [
    "test_data[\"cov\"] = test_data.apply(lambda row: (row['x'] - x_mean) * (row['y'] - y_mean), axis=1)\n",
    "print(test_data)\n",
    "cov = test_data['cov'].sum()/(n-1)\n",
    "print('cov:', cov)"
   ]
  },
  {
   "cell_type": "code",
   "execution_count": 10,
   "metadata": {},
   "outputs": [
    {
     "name": "stdout",
     "output_type": "stream",
     "text": [
      "0.989938075756128\n"
     ]
    }
   ],
   "source": [
    "corr = cov/(x_standard_deviation*y_standard_deviation)\n",
    "print(corr)"
   ]
  },
  {
   "cell_type": "markdown",
   "metadata": {},
   "source": [
    "| | |\n",
    "|--|--|\n",
    "| x_standard_deviation | 3.0276503540974917 |\n",
    "| y_standard_deviation | 6.61731734835869 |\n",
    "| x_mean | 5.5 |\n",
    "| y_mean | 9.7 |\n",
    "| correlation_coefficient | 0.989938075756128 |\n"
   ]
  },
  {
   "cell_type": "markdown",
   "metadata": {},
   "source": [
    "Calculate coefficient:"
   ]
  },
  {
   "cell_type": "code",
   "execution_count": 11,
   "metadata": {},
   "outputs": [
    {
     "name": "stdout",
     "output_type": "stream",
     "text": [
      "coefficient: 2.164\n"
     ]
    }
   ],
   "source": [
    "a = round(corr * (y_standard_deviation/x_standard_deviation), 3)\n",
    "print('coefficient:', a)"
   ]
  },
  {
   "cell_type": "markdown",
   "metadata": {},
   "source": [
    "Calculate intercept:"
   ]
  },
  {
   "cell_type": "code",
   "execution_count": 12,
   "metadata": {},
   "outputs": [
    {
     "name": "stdout",
     "output_type": "stream",
     "text": [
      "intercept -2.202\n"
     ]
    }
   ],
   "source": [
    "b = round(y_mean - a * x_mean, 3)\n",
    "print('intercept', b)"
   ]
  },
  {
   "cell_type": "markdown",
   "metadata": {},
   "source": [
    "=> Regression equations: $$y=2.164x-2.202$$"
   ]
  },
  {
   "cell_type": "code",
   "execution_count": 13,
   "metadata": {},
   "outputs": [
    {
     "name": "stdout",
     "output_type": "stream",
     "text": [
      "    x   y   x_ps    y_ps    cov  y_predict\n",
      "0   1   2  20.25   59.29  34.65     -0.038\n",
      "1   2   1  12.25   75.69  30.45      2.126\n",
      "2   3   3   6.25   44.89  16.75      4.290\n",
      "3   4   6   2.25   13.69   5.55      6.454\n",
      "4   5   9   0.25    0.49   0.35      8.618\n",
      "5   6  11   0.25    1.69   0.65     10.782\n",
      "6   7  13   2.25   10.89   4.95     12.946\n",
      "7   8  15   6.25   28.09  13.25     15.110\n",
      "8   9  17  12.25   53.29  25.55     17.274\n",
      "9  10  20  20.25  106.09  46.35     19.438\n"
     ]
    }
   ],
   "source": [
    "test_data['y_predict'] = test_data.apply(lambda row: a * row['x'] + b, axis=1)\n",
    "print(test_data)"
   ]
  },
  {
   "cell_type": "code",
   "execution_count": 14,
   "metadata": {},
   "outputs": [
    {
     "data": {
      "image/png": "[encoded data removed]",
      "text/plain": [
       "<Figure size 640x480 with 1 Axes>"
      ]
     },
     "metadata": {},
     "output_type": "display_data"
    }
   ],
   "source": [
    "plt.scatter(test_data['x'], test_data['y'])\n",
    "plt.plot(test_data['x'], test_data['y_predict'], color='red') # the fitting line\n",
    "plt.show()"
   ]
  },
  {
   "cell_type": "markdown",
   "metadata": {},
   "source": [
    "### **Evaluate model**"
   ]
  },
  {
   "cell_type": "markdown",
   "metadata": {},
   "source": [
    "Mean Squared Error (MSE): $$MSE=\\frac{1}{n}\\cdot\\sum^{}\\left(y_{i}-y_{i}^{\\prime}\\right)^2$$\n",
    "Calculate MSE:"
   ]
  },
  {
   "cell_type": "code",
   "execution_count": 15,
   "metadata": {},
   "outputs": [
    {
     "name": "stdout",
     "output_type": "stream",
     "text": [
      "    x   y   x_ps    y_ps    cov  y_predict     y_mse\n",
      "0   1   2  20.25   59.29  34.65     -0.038  4.153444\n",
      "1   2   1  12.25   75.69  30.45      2.126  1.267876\n",
      "2   3   3   6.25   44.89  16.75      4.290  1.664100\n",
      "3   4   6   2.25   13.69   5.55      6.454  0.206116\n",
      "4   5   9   0.25    0.49   0.35      8.618  0.145924\n",
      "5   6  11   0.25    1.69   0.65     10.782  0.047524\n",
      "6   7  13   2.25   10.89   4.95     12.946  0.002916\n",
      "7   8  15   6.25   28.09  13.25     15.110  0.012100\n",
      "8   9  17  12.25   53.29  25.55     17.274  0.075076\n",
      "9  10  20  20.25  106.09  46.35     19.438  0.315844\n",
      "mse: 0.789092\n"
     ]
    }
   ],
   "source": [
    "test_data['y_mse'] = test_data.apply(lambda row: (row['y'] - row['y_predict']) ** 2, axis=1)\n",
    "print(test_data)\n",
    "mse = (1/n)*(test_data['y_mse'].sum())\n",
    "print('mse:', mse)"
   ]
  },
  {
   "cell_type": "markdown",
   "metadata": {},
   "source": [
    "Mean Absolute Error (MAE): $$MAE=\\frac{\\sum^{}\\left|y_{i}^{\\prime}-y_{i}\\right|}{n}$$\n",
    "Calculate MAE:"
   ]
  },
  {
   "cell_type": "code",
   "execution_count": 16,
   "metadata": {},
   "outputs": [
    {
     "name": "stdout",
     "output_type": "stream",
     "text": [
      "    x   y   x_ps    y_ps    cov  y_predict     y_mse  y_mae\n",
      "0   1   2  20.25   59.29  34.65     -0.038  4.153444  2.038\n",
      "1   2   1  12.25   75.69  30.45      2.126  1.267876  1.126\n",
      "2   3   3   6.25   44.89  16.75      4.290  1.664100  1.290\n",
      "3   4   6   2.25   13.69   5.55      6.454  0.206116  0.454\n",
      "4   5   9   0.25    0.49   0.35      8.618  0.145924  0.382\n",
      "5   6  11   0.25    1.69   0.65     10.782  0.047524  0.218\n",
      "6   7  13   2.25   10.89   4.95     12.946  0.002916  0.054\n",
      "7   8  15   6.25   28.09  13.25     15.110  0.012100  0.110\n",
      "8   9  17  12.25   53.29  25.55     17.274  0.075076  0.274\n",
      "9  10  20  20.25  106.09  46.35     19.438  0.315844  0.562\n",
      "mae: 0.6507999999999997\n"
     ]
    }
   ],
   "source": [
    "test_data['y_mae'] = test_data.apply(lambda row: abs(row['y_predict'] - row['y']), axis=1)\n",
    "print(test_data)\n",
    "mae = test_data['y_mae'].sum()/n\n",
    "print('mae:', mae)"
   ]
  },
  {
   "cell_type": "markdown",
   "metadata": {},
   "source": [
    "Root Mean Square Error (RMSE): $$RMSE=\\sqrt{\\frac{\\sum\\left(y_{i}-y_{i}^{\\prime}\\right)^2}{n}}$$"
   ]
  },
  {
   "cell_type": "code",
   "execution_count": 17,
   "metadata": {},
   "outputs": [
    {
     "name": "stdout",
     "output_type": "stream",
     "text": [
      "    x   y   x_ps    y_ps    cov  y_predict     y_mse  y_mae    y_rmse\n",
      "0   1   2  20.25   59.29  34.65     -0.038  4.153444  2.038  4.153444\n",
      "1   2   1  12.25   75.69  30.45      2.126  1.267876  1.126  1.267876\n",
      "2   3   3   6.25   44.89  16.75      4.290  1.664100  1.290  1.664100\n",
      "3   4   6   2.25   13.69   5.55      6.454  0.206116  0.454  0.206116\n",
      "4   5   9   0.25    0.49   0.35      8.618  0.145924  0.382  0.145924\n",
      "5   6  11   0.25    1.69   0.65     10.782  0.047524  0.218  0.047524\n",
      "6   7  13   2.25   10.89   4.95     12.946  0.002916  0.054  0.002916\n",
      "7   8  15   6.25   28.09  13.25     15.110  0.012100  0.110  0.012100\n",
      "8   9  17  12.25   53.29  25.55     17.274  0.075076  0.274  0.075076\n",
      "9  10  20  20.25  106.09  46.35     19.438  0.315844  0.562  0.315844\n",
      "rmse: 0.8883085049688536\n"
     ]
    }
   ],
   "source": [
    "test_data['y_rmse'] = test_data.apply(lambda row: (row['y'] - row['y_predict']) ** 2, axis=1)\n",
    "print(test_data)\n",
    "rmse = m.sqrt(test_data['y_rmse'].sum()/n)\n",
    "print('rmse:', rmse)"
   ]
  },
  {
   "cell_type": "code",
   "execution_count": 18,
   "metadata": {},
   "outputs": [
    {
     "name": "stdout",
     "output_type": "stream",
     "text": [
      "0.7890919999999999\n",
      "0.6507999999999997\n",
      "0.8883085049688536\n"
     ]
    }
   ],
   "source": [
    "from sklearn.metrics import root_mean_squared_error as sk_rmse, mean_squared_error as sk_mse, mean_absolute_error as sk_mae\n",
    "print(sk_mse(test_data['y'], test_data['y_predict']))\n",
    "print(sk_mae(test_data['y'], test_data['y_predict']))\n",
    "print(sk_rmse(test_data['y'], test_data['y_predict']))"
   ]
  },
  {
   "cell_type": "code",
   "execution_count": 19,
   "metadata": {},
   "outputs": [
    {
     "data": {
      "text/html": [
       "<style>#sk-container-id-1 {\n",
       "  /* Definition of color scheme common for light and dark mode */\n",
       "  --sklearn-color-text: black;\n",
       "  --sklearn-color-line: gray;\n",
       "  /* Definition of color scheme for unfitted estimators */\n",
       "  --sklearn-color-unfitted-level-0: #fff5e6;\n",
       "  --sklearn-color-unfitted-level-1: #f6e4d2;\n",
       "  --sklearn-color-unfitted-level-2: #ffe0b3;\n",
       "  --sklearn-color-unfitted-level-3: chocolate;\n",
       "  /* Definition of color scheme for fitted estimators */\n",
       "  --sklearn-color-fitted-level-0: #f0f8ff;\n",
       "  --sklearn-color-fitted-level-1: #d4ebff;\n",
       "  --sklearn-color-fitted-level-2: #b3dbfd;\n",
       "  --sklearn-color-fitted-level-3: cornflowerblue;\n",
       "\n",
       "  /* Specific color for light theme */\n",
       "  --sklearn-color-text-on-default-background: var(--sg-text-color, var(--theme-code-foreground, var(--jp-content-font-color1, black)));\n",
       "  --sklearn-color-background: var(--sg-background-color, var(--theme-background, var(--jp-layout-color0, white)));\n",
       "  --sklearn-color-border-box: var(--sg-text-color, var(--theme-code-foreground, var(--jp-content-font-color1, black)));\n",
       "  --sklearn-color-icon: #696969;\n",
       "\n",
       "  @media (prefers-color-scheme: dark) {\n",
       "    /* Redefinition of color scheme for dark theme */\n",
       "    --sklearn-color-text-on-default-background: var(--sg-text-color, var(--theme-code-foreground, var(--jp-content-font-color1, white)));\n",
       "    --sklearn-color-background: var(--sg-background-color, var(--theme-background, var(--jp-layout-color0, #111)));\n",
       "    --sklearn-color-border-box: var(--sg-text-color, var(--theme-code-foreground, var(--jp-content-font-color1, white)));\n",
       "    --sklearn-color-icon: #878787;\n",
       "  }\n",
       "}\n",
       "\n",
       "#sk-container-id-1 {\n",
       "  color: var(--sklearn-color-text);\n",
       "}\n",
       "\n",
       "#sk-container-id-1 pre {\n",
       "  padding: 0;\n",
       "}\n",
       "\n",
       "#sk-container-id-1 input.sk-hidden--visually {\n",
       "  border: 0;\n",
       "  clip: rect(1px 1px 1px 1px);\n",
       "  clip: rect(1px, 1px, 1px, 1px);\n",
       "  height: 1px;\n",
       "  margin: -1px;\n",
       "  overflow: hidden;\n",
       "  padding: 0;\n",
       "  position: absolute;\n",
       "  width: 1px;\n",
       "}\n",
       "\n",
       "#sk-container-id-1 div.sk-dashed-wrapped {\n",
       "  border: 1px dashed var(--sklearn-color-line);\n",
       "  margin: 0 0.4em 0.5em 0.4em;\n",
       "  box-sizing: border-box;\n",
       "  padding-bottom: 0.4em;\n",
       "  background-color: var(--sklearn-color-background);\n",
       "}\n",
       "\n",
       "#sk-container-id-1 div.sk-container {\n",
       "  /* jupyter's `normalize.less` sets `[hidden] { display: none; }`\n",
       "     but bootstrap.min.css set `[hidden] { display: none !important; }`\n",
       "     so we also need the `!important` here to be able to override the\n",
       "     default hidden behavior on the sphinx rendered scikit-learn.org.\n",
       "     See: https://github.com/scikit-learn/scikit-learn/issues/21755 */\n",
       "  display: inline-block !important;\n",
       "  position: relative;\n",
       "}\n",
       "\n",
       "#sk-container-id-1 div.sk-text-repr-fallback {\n",
       "  display: none;\n",
       "}\n",
       "\n",
       "div.sk-parallel-item,\n",
       "div.sk-serial,\n",
       "div.sk-item {\n",
       "  /* draw centered vertical line to link estimators */\n",
       "  background-image: linear-gradient(var(--sklearn-color-text-on-default-background), var(--sklearn-color-text-on-default-background));\n",
       "  background-size: 2px 100%;\n",
       "  background-repeat: no-repeat;\n",
       "  background-position: center center;\n",
       "}\n",
       "\n",
       "/* Parallel-specific style estimator block */\n",
       "\n",
       "#sk-container-id-1 div.sk-parallel-item::after {\n",
       "  content: \"\";\n",
       "  width: 100%;\n",
       "  border-bottom: 2px solid var(--sklearn-color-text-on-default-background);\n",
       "  flex-grow: 1;\n",
       "}\n",
       "\n",
       "#sk-container-id-1 div.sk-parallel {\n",
       "  display: flex;\n",
       "  align-items: stretch;\n",
       "  justify-content: center;\n",
       "  background-color: var(--sklearn-color-background);\n",
       "  position: relative;\n",
       "}\n",
       "\n",
       "#sk-container-id-1 div.sk-parallel-item {\n",
       "  display: flex;\n",
       "  flex-direction: column;\n",
       "}\n",
       "\n",
       "#sk-container-id-1 div.sk-parallel-item:first-child::after {\n",
       "  align-self: flex-end;\n",
       "  width: 50%;\n",
       "}\n",
       "\n",
       "#sk-container-id-1 div.sk-parallel-item:last-child::after {\n",
       "  align-self: flex-start;\n",
       "  width: 50%;\n",
       "}\n",
       "\n",
       "#sk-container-id-1 div.sk-parallel-item:only-child::after {\n",
       "  width: 0;\n",
       "}\n",
       "\n",
       "/* Serial-specific style estimator block */\n",
       "\n",
       "#sk-container-id-1 div.sk-serial {\n",
       "  display: flex;\n",
       "  flex-direction: column;\n",
       "  align-items: center;\n",
       "  background-color: var(--sklearn-color-background);\n",
       "  padding-right: 1em;\n",
       "  padding-left: 1em;\n",
       "}\n",
       "\n",
       "\n",
       "/* Toggleable style: style used for estimator/Pipeline/ColumnTransformer box that is\n",
       "clickable and can be expanded/collapsed.\n",
       "- Pipeline and ColumnTransformer use this feature and define the default style\n",
       "- Estimators will overwrite some part of the style using the `sk-estimator` class\n",
       "*/\n",
       "\n",
       "/* Pipeline and ColumnTransformer style (default) */\n",
       "\n",
       "#sk-container-id-1 div.sk-toggleable {\n",
       "  /* Default theme specific background. It is overwritten whether we have a\n",
       "  specific estimator or a Pipeline/ColumnTransformer */\n",
       "  background-color: var(--sklearn-color-background);\n",
       "}\n",
       "\n",
       "/* Toggleable label */\n",
       "#sk-container-id-1 label.sk-toggleable__label {\n",
       "  cursor: pointer;\n",
       "  display: block;\n",
       "  width: 100%;\n",
       "  margin-bottom: 0;\n",
       "  padding: 0.5em;\n",
       "  box-sizing: border-box;\n",
       "  text-align: center;\n",
       "}\n",
       "\n",
       "#sk-container-id-1 label.sk-toggleable__label-arrow:before {\n",
       "  /* Arrow on the left of the label */\n",
       "  content: \"▸\";\n",
       "  float: left;\n",
       "  margin-right: 0.25em;\n",
       "  color: var(--sklearn-color-icon);\n",
       "}\n",
       "\n",
       "#sk-container-id-1 label.sk-toggleable__label-arrow:hover:before {\n",
       "  color: var(--sklearn-color-text);\n",
       "}\n",
       "\n",
       "/* Toggleable content - dropdown */\n",
       "\n",
       "#sk-container-id-1 div.sk-toggleable__content {\n",
       "  max-height: 0;\n",
       "  max-width: 0;\n",
       "  overflow: hidden;\n",
       "  text-align: left;\n",
       "  /* unfitted */\n",
       "  background-color: var(--sklearn-color-unfitted-level-0);\n",
       "}\n",
       "\n",
       "#sk-container-id-1 div.sk-toggleable__content.fitted {\n",
       "  /* fitted */\n",
       "  background-color: var(--sklearn-color-fitted-level-0);\n",
       "}\n",
       "\n",
       "#sk-container-id-1 div.sk-toggleable__content pre {\n",
       "  margin: 0.2em;\n",
       "  border-radius: 0.25em;\n",
       "  color: var(--sklearn-color-text);\n",
       "  /* unfitted */\n",
       "  background-color: var(--sklearn-color-unfitted-level-0);\n",
       "}\n",
       "\n",
       "#sk-container-id-1 div.sk-toggleable__content.fitted pre {\n",
       "  /* unfitted */\n",
       "  background-color: var(--sklearn-color-fitted-level-0);\n",
       "}\n",
       "\n",
       "#sk-container-id-1 input.sk-toggleable__control:checked~div.sk-toggleable__content {\n",
       "  /* Expand drop-down */\n",
       "  max-height: 200px;\n",
       "  max-width: 100%;\n",
       "  overflow: auto;\n",
       "}\n",
       "\n",
       "#sk-container-id-1 input.sk-toggleable__control:checked~label.sk-toggleable__label-arrow:before {\n",
       "  content: \"▾\";\n",
       "}\n",
       "\n",
       "/* Pipeline/ColumnTransformer-specific style */\n",
       "\n",
       "#sk-container-id-1 div.sk-label input.sk-toggleable__control:checked~label.sk-toggleable__label {\n",
       "  color: var(--sklearn-color-text);\n",
       "  background-color: var(--sklearn-color-unfitted-level-2);\n",
       "}\n",
       "\n",
       "#sk-container-id-1 div.sk-label.fitted input.sk-toggleable__control:checked~label.sk-toggleable__label {\n",
       "  background-color: var(--sklearn-color-fitted-level-2);\n",
       "}\n",
       "\n",
       "/* Estimator-specific style */\n",
       "\n",
       "/* Colorize estimator box */\n",
       "#sk-container-id-1 div.sk-estimator input.sk-toggleable__control:checked~label.sk-toggleable__label {\n",
       "  /* unfitted */\n",
       "  background-color: var(--sklearn-color-unfitted-level-2);\n",
       "}\n",
       "\n",
       "#sk-container-id-1 div.sk-estimator.fitted input.sk-toggleable__control:checked~label.sk-toggleable__label {\n",
       "  /* fitted */\n",
       "  background-color: var(--sklearn-color-fitted-level-2);\n",
       "}\n",
       "\n",
       "#sk-container-id-1 div.sk-label label.sk-toggleable__label,\n",
       "#sk-container-id-1 div.sk-label label {\n",
       "  /* The background is the default theme color */\n",
       "  color: var(--sklearn-color-text-on-default-background);\n",
       "}\n",
       "\n",
       "/* On hover, darken the color of the background */\n",
       "#sk-container-id-1 div.sk-label:hover label.sk-toggleable__label {\n",
       "  color: var(--sklearn-color-text);\n",
       "  background-color: var(--sklearn-color-unfitted-level-2);\n",
       "}\n",
       "\n",
       "/* Label box, darken color on hover, fitted */\n",
       "#sk-container-id-1 div.sk-label.fitted:hover label.sk-toggleable__label.fitted {\n",
       "  color: var(--sklearn-color-text);\n",
       "  background-color: var(--sklearn-color-fitted-level-2);\n",
       "}\n",
       "\n",
       "/* Estimator label */\n",
       "\n",
       "#sk-container-id-1 div.sk-label label {\n",
       "  font-family: monospace;\n",
       "  font-weight: bold;\n",
       "  display: inline-block;\n",
       "  line-height: 1.2em;\n",
       "}\n",
       "\n",
       "#sk-container-id-1 div.sk-label-container {\n",
       "  text-align: center;\n",
       "}\n",
       "\n",
       "/* Estimator-specific */\n",
       "#sk-container-id-1 div.sk-estimator {\n",
       "  font-family: monospace;\n",
       "  border: 1px dotted var(--sklearn-color-border-box);\n",
       "  border-radius: 0.25em;\n",
       "  box-sizing: border-box;\n",
       "  margin-bottom: 0.5em;\n",
       "  /* unfitted */\n",
       "  background-color: var(--sklearn-color-unfitted-level-0);\n",
       "}\n",
       "\n",
       "#sk-container-id-1 div.sk-estimator.fitted {\n",
       "  /* fitted */\n",
       "  background-color: var(--sklearn-color-fitted-level-0);\n",
       "}\n",
       "\n",
       "/* on hover */\n",
       "#sk-container-id-1 div.sk-estimator:hover {\n",
       "  /* unfitted */\n",
       "  background-color: var(--sklearn-color-unfitted-level-2);\n",
       "}\n",
       "\n",
       "#sk-container-id-1 div.sk-estimator.fitted:hover {\n",
       "  /* fitted */\n",
       "  background-color: var(--sklearn-color-fitted-level-2);\n",
       "}\n",
       "\n",
       "/* Specification for estimator info (e.g. \"i\" and \"?\") */\n",
       "\n",
       "/* Common style for \"i\" and \"?\" */\n",
       "\n",
       ".sk-estimator-doc-link,\n",
       "a:link.sk-estimator-doc-link,\n",
       "a:visited.sk-estimator-doc-link {\n",
       "  float: right;\n",
       "  font-size: smaller;\n",
       "  line-height: 1em;\n",
       "  font-family: monospace;\n",
       "  background-color: var(--sklearn-color-background);\n",
       "  border-radius: 1em;\n",
       "  height: 1em;\n",
       "  width: 1em;\n",
       "  text-decoration: none !important;\n",
       "  margin-left: 1ex;\n",
       "  /* unfitted */\n",
       "  border: var(--sklearn-color-unfitted-level-1) 1pt solid;\n",
       "  color: var(--sklearn-color-unfitted-level-1);\n",
       "}\n",
       "\n",
       ".sk-estimator-doc-link.fitted,\n",
       "a:link.sk-estimator-doc-link.fitted,\n",
       "a:visited.sk-estimator-doc-link.fitted {\n",
       "  /* fitted */\n",
       "  border: var(--sklearn-color-fitted-level-1) 1pt solid;\n",
       "  color: var(--sklearn-color-fitted-level-1);\n",
       "}\n",
       "\n",
       "/* On hover */\n",
       "div.sk-estimator:hover .sk-estimator-doc-link:hover,\n",
       ".sk-estimator-doc-link:hover,\n",
       "div.sk-label-container:hover .sk-estimator-doc-link:hover,\n",
       ".sk-estimator-doc-link:hover {\n",
       "  /* unfitted */\n",
       "  background-color: var(--sklearn-color-unfitted-level-3);\n",
       "  color: var(--sklearn-color-background);\n",
       "  text-decoration: none;\n",
       "}\n",
       "\n",
       "div.sk-estimator.fitted:hover .sk-estimator-doc-link.fitted:hover,\n",
       ".sk-estimator-doc-link.fitted:hover,\n",
       "div.sk-label-container:hover .sk-estimator-doc-link.fitted:hover,\n",
       ".sk-estimator-doc-link.fitted:hover {\n",
       "  /* fitted */\n",
       "  background-color: var(--sklearn-color-fitted-level-3);\n",
       "  color: var(--sklearn-color-background);\n",
       "  text-decoration: none;\n",
       "}\n",
       "\n",
       "/* Span, style for the box shown on hovering the info icon */\n",
       ".sk-estimator-doc-link span {\n",
       "  display: none;\n",
       "  z-index: 9999;\n",
       "  position: relative;\n",
       "  font-weight: normal;\n",
       "  right: .2ex;\n",
       "  padding: .5ex;\n",
       "  margin: .5ex;\n",
       "  width: min-content;\n",
       "  min-width: 20ex;\n",
       "  max-width: 50ex;\n",
       "  color: var(--sklearn-color-text);\n",
       "  box-shadow: 2pt 2pt 4pt #999;\n",
       "  /* unfitted */\n",
       "  background: var(--sklearn-color-unfitted-level-0);\n",
       "  border: .5pt solid var(--sklearn-color-unfitted-level-3);\n",
       "}\n",
       "\n",
       ".sk-estimator-doc-link.fitted span {\n",
       "  /* fitted */\n",
       "  background: var(--sklearn-color-fitted-level-0);\n",
       "  border: var(--sklearn-color-fitted-level-3);\n",
       "}\n",
       "\n",
       ".sk-estimator-doc-link:hover span {\n",
       "  display: block;\n",
       "}\n",
       "\n",
       "/* \"?\"-specific style due to the `<a>` HTML tag */\n",
       "\n",
       "#sk-container-id-1 a.estimator_doc_link {\n",
       "  float: right;\n",
       "  font-size: 1rem;\n",
       "  line-height: 1em;\n",
       "  font-family: monospace;\n",
       "  background-color: var(--sklearn-color-background);\n",
       "  border-radius: 1rem;\n",
       "  height: 1rem;\n",
       "  width: 1rem;\n",
       "  text-decoration: none;\n",
       "  /* unfitted */\n",
       "  color: var(--sklearn-color-unfitted-level-1);\n",
       "  border: var(--sklearn-color-unfitted-level-1) 1pt solid;\n",
       "}\n",
       "\n",
       "#sk-container-id-1 a.estimator_doc_link.fitted {\n",
       "  /* fitted */\n",
       "  border: var(--sklearn-color-fitted-level-1) 1pt solid;\n",
       "  color: var(--sklearn-color-fitted-level-1);\n",
       "}\n",
       "\n",
       "/* On hover */\n",
       "#sk-container-id-1 a.estimator_doc_link:hover {\n",
       "  /* unfitted */\n",
       "  background-color: var(--sklearn-color-unfitted-level-3);\n",
       "  color: var(--sklearn-color-background);\n",
       "  text-decoration: none;\n",
       "}\n",
       "\n",
       "#sk-container-id-1 a.estimator_doc_link.fitted:hover {\n",
       "  /* fitted */\n",
       "  background-color: var(--sklearn-color-fitted-level-3);\n",
       "}\n",
       "</style><div id=\"sk-container-id-1\" class=\"sk-top-container\"><div class=\"sk-text-repr-fallback\"><pre>LinearRegression()</pre><b>In a Jupyter environment, please rerun this cell to show the HTML representation or trust the notebook. <br />On GitHub, the HTML representation is unable to render, please try loading this page with nbviewer.org.</b></div><div class=\"sk-container\" hidden><div class=\"sk-item\"><div class=\"sk-estimator fitted sk-toggleable\"><input class=\"sk-toggleable__control sk-hidden--visually\" id=\"sk-estimator-id-1\" type=\"checkbox\" checked><label for=\"sk-estimator-id-1\" class=\"sk-toggleable__label fitted sk-toggleable__label-arrow fitted\">&nbsp;&nbsp;LinearRegression<a class=\"sk-estimator-doc-link fitted\" rel=\"noreferrer\" target=\"_blank\" href=\"https://scikit-learn.org/1.4/modules/generated/sklearn.linear_model.LinearRegression.html\">?<span>Documentation for LinearRegression</span></a><span class=\"sk-estimator-doc-link fitted\">i<span>Fitted</span></span></label><div class=\"sk-toggleable__content fitted\"><pre>LinearRegression()</pre></div> </div></div></div></div>"
      ],
      "text/plain": [
       "LinearRegression()"
      ]
     },
     "execution_count": 19,
     "metadata": {},
     "output_type": "execute_result"
    }
   ],
   "source": [
    "from sklearn.linear_model import LinearRegression\n",
    "from sklearn.model_selection import train_test_split\n",
    "\n",
    "X_train, X_test, y_train, y_test = train_test_split(test_data[['x']], test_data['y'], test_size=0.2, random_state=42)\n",
    "\n",
    "lr = LinearRegression()\n",
    "lr.fit(X_train, y_train)"
   ]
  },
  {
   "cell_type": "code",
   "execution_count": 20,
   "metadata": {},
   "outputs": [
    {
     "name": "stdout",
     "output_type": "stream",
     "text": [
      "intercept_: -1.7413793103448292\n",
      "coef_: [2.11206897]\n"
     ]
    }
   ],
   "source": [
    "print('intercept_:', lr.intercept_)\n",
    "print('coef_:', lr.coef_)"
   ]
  },
  {
   "cell_type": "code",
   "execution_count": 21,
   "metadata": {},
   "outputs": [
    {
     "name": "stdout",
     "output_type": "stream",
     "text": [
      "    x   y   x_ps    y_ps    cov  y_predict     y_mse  y_mae    y_rmse  \\\n",
      "0   1   2  20.25   59.29  34.65     -0.038  4.153444  2.038  4.153444   \n",
      "1   2   1  12.25   75.69  30.45      2.126  1.267876  1.126  1.267876   \n",
      "2   3   3   6.25   44.89  16.75      4.290  1.664100  1.290  1.664100   \n",
      "3   4   6   2.25   13.69   5.55      6.454  0.206116  0.454  0.206116   \n",
      "4   5   9   0.25    0.49   0.35      8.618  0.145924  0.382  0.145924   \n",
      "5   6  11   0.25    1.69   0.65     10.782  0.047524  0.218  0.047524   \n",
      "6   7  13   2.25   10.89   4.95     12.946  0.002916  0.054  0.002916   \n",
      "7   8  15   6.25   28.09  13.25     15.110  0.012100  0.110  0.012100   \n",
      "8   9  17  12.25   53.29  25.55     17.274  0.075076  0.274  0.075076   \n",
      "9  10  20  20.25  106.09  46.35     19.438  0.315844  0.562  0.315844   \n",
      "\n",
      "   y_predict_sklearn  \n",
      "0           0.370690  \n",
      "1           2.482759  \n",
      "2           4.594828  \n",
      "3           6.706897  \n",
      "4           8.818966  \n",
      "5          10.931034  \n",
      "6          13.043103  \n",
      "7          15.155172  \n",
      "8          17.267241  \n",
      "9          19.379310  \n"
     ]
    }
   ],
   "source": [
    "test_data['y_predict_sklearn'] = test_data.apply(lambda row: lr.coef_[0] * row['x'] + lr.intercept_, axis=1)\n",
    "print(test_data)"
   ]
  },
  {
   "cell_type": "code",
   "execution_count": 22,
   "metadata": {},
   "outputs": [
    {
     "data": {
      "image/png": "[encoded data removed]",
      "text/plain": [
       "<Figure size 640x480 with 1 Axes>"
      ]
     },
     "metadata": {},
     "output_type": "display_data"
    }
   ],
   "source": [
    "plt.scatter(test_data['x'], test_data['y'])\n",
    "plt.plot(test_data['x'], test_data['y_predict_sklearn'], color='red') # the fitting line\n",
    "plt.show()"
   ]
  },
  {
   "cell_type": "code",
   "execution_count": 23,
   "metadata": {},
   "outputs": [
    {
     "name": "stdout",
     "output_type": "stream",
     "text": [
      "   x   y  y_predict\n",
      "8  9  17  17.267241\n",
      "1  2   1   2.482759\n"
     ]
    }
   ],
   "source": [
    "y_pred = lr.predict(X_test)\n",
    "compare_data = pd.DataFrame({ 'x': X_test['x'], 'y': y_test, 'y_predict': y_pred })\n",
    "print(compare_data)"
   ]
  },
  {
   "cell_type": "code",
   "execution_count": 24,
   "metadata": {},
   "outputs": [
    {
     "name": "stdout",
     "output_type": "stream",
     "text": [
      "accuracy: 0.982265694671522\n"
     ]
    }
   ],
   "source": [
    "accuracy = lr.score(X_test, y_test)\n",
    "print('accuracy:', accuracy)"
   ]
  },
  {
   "cell_type": "markdown",
   "metadata": {},
   "source": [
    "### **Using matrices**"
   ]
  },
  {
   "cell_type": "code",
   "execution_count": 25,
   "metadata": {},
   "outputs": [],
   "source": [
    "from __future__ import division, print_function, unicode_literals\n",
    "import numpy as np\n",
    "import matplotlib.pyplot as plt"
   ]
  },
  {
   "cell_type": "code",
   "execution_count": 26,
   "metadata": {},
   "outputs": [],
   "source": [
    "# height (cm)\n",
    "height = np.array([[147, 150, 153, 158, 163, 165, 168, 170, 173, 175, 178, 180, 183]]).T\n",
    "# weight (kg)\n",
    "weight = np.array([[ 49, 50, 51,  54, 58, 59, 60, 62, 63, 64, 66, 67, 68]]).T\n",
    "\n",
    "# test\n",
    "height_test = np.array([[155, 160]])\n",
    "weight_test = np.array([[52, 56]])"
   ]
  },
  {
   "cell_type": "code",
   "execution_count": 27,
   "metadata": {},
   "outputs": [
    {
     "data": {
      "image/png": "[encoded data removed]",
      "text/plain": [
       "<Figure size 640x480 with 1 Axes>"
      ]
     },
     "metadata": {},
     "output_type": "display_data"
    }
   ],
   "source": [
    "# Visualize data \n",
    "plt.plot(height, weight, 'ro')\n",
    "plt.axis([140, 190, 45, 75])\n",
    "plt.xlabel('Height (cm)')\n",
    "plt.ylabel('Weight (kg)')\n",
    "plt.show()"
   ]
  },
  {
   "cell_type": "code",
   "execution_count": 28,
   "metadata": {},
   "outputs": [
    {
     "name": "stdout",
     "output_type": "stream",
     "text": [
      "[[  1. 147.]\n",
      " [  1. 150.]\n",
      " [  1. 153.]\n",
      " [  1. 158.]\n",
      " [  1. 163.]\n",
      " [  1. 165.]\n",
      " [  1. 168.]\n",
      " [  1. 170.]\n",
      " [  1. 173.]\n",
      " [  1. 175.]\n",
      " [  1. 178.]\n",
      " [  1. 180.]\n",
      " [  1. 183.]]\n"
     ]
    }
   ],
   "source": [
    "# Building xBar \n",
    "one = np.ones((height.shape[0], 1))\n",
    "xBar = np.concatenate((one, height), axis = 1)\n",
    "print(xBar)"
   ]
  },
  {
   "cell_type": "code",
   "execution_count": 29,
   "metadata": {},
   "outputs": [
    {
     "name": "stdout",
     "output_type": "stream",
     "text": [
      "[[  1.   1.   1.   1.   1.   1.   1.   1.   1.   1.   1.   1.   1.]\n",
      " [147. 150. 153. 158. 163. 165. 168. 170. 173. 175. 178. 180. 183.]]\n",
      "[[49]\n",
      " [50]\n",
      " [51]\n",
      " [54]\n",
      " [58]\n",
      " [59]\n",
      " [60]\n",
      " [62]\n",
      " [63]\n",
      " [64]\n",
      " [66]\n",
      " [67]\n",
      " [68]]\n"
     ]
    }
   ],
   "source": [
    "print(xBar.T)\n",
    "print(weight)"
   ]
  },
  {
   "cell_type": "code",
   "execution_count": 30,
   "metadata": {},
   "outputs": [
    {
     "name": "stdout",
     "output_type": "stream",
     "text": [
      "w =  [[-33.73541021]\n",
      " [  0.55920496]]\n"
     ]
    }
   ],
   "source": [
    "# Calculating weights of the fitting line \n",
    "A = np.dot(xBar.T, xBar)\n",
    "b = np.dot(xBar.T, weight)\n",
    "w = np.dot(np.linalg.pinv(A), b)\n",
    "print('w = ', w)"
   ]
  },
  {
   "cell_type": "code",
   "execution_count": 31,
   "metadata": {},
   "outputs": [],
   "source": [
    "# Preparing the fitting line \n",
    "w_0 = w[0][0]\n",
    "w_1 = w[1][0]\n",
    "x0 = np.linspace(145, 185, 2)\n",
    "y0 = w_0 + w_1*x0"
   ]
  },
  {
   "cell_type": "code",
   "execution_count": 32,
   "metadata": {},
   "outputs": [
    {
     "data": {
      "image/png": "[encoded data removed]",
      "text/plain": [
       "<Figure size 640x480 with 1 Axes>"
      ]
     },
     "metadata": {},
     "output_type": "display_data"
    }
   ],
   "source": [
    "# Drawing the fitting line \n",
    "plt.plot(height.T, weight.T, 'ro')     # data \n",
    "plt.plot(x0, y0) # the fitting line\n",
    "plt.axis([140, 190, 45, 75])\n",
    "plt.xlabel('Height (cm)')\n",
    "plt.ylabel('Weight (kg)')\n",
    "plt.show()"
   ]
  },
  {
   "cell_type": "code",
   "execution_count": 33,
   "metadata": {},
   "outputs": [
    {
     "name": "stdout",
     "output_type": "stream",
     "text": [
      "Predict weight of person with height 155 cm: 52.94 (kg), real number: 52 (kg)\n",
      "Predict weight of person with height 160 cm: 55.74 (kg), real number: 56 (kg)\n"
     ]
    }
   ],
   "source": [
    "y1 = w_1*155 + w_0\n",
    "y2 = w_1*160 + w_0\n",
    "\n",
    "print( u'Predict weight of person with height 155 cm: %.2f (kg), real number: 52 (kg)'  %(y1) )\n",
    "print( u'Predict weight of person with height 160 cm: %.2f (kg), real number: 56 (kg)'  %(y2) )"
   ]
  },
  {
   "cell_type": "markdown",
   "metadata": {},
   "source": [
    "### **Sklearn library**"
   ]
  },
  {
   "cell_type": "code",
   "execution_count": 34,
   "metadata": {},
   "outputs": [
    {
     "name": "stdout",
     "output_type": "stream",
     "text": [
      "Solution found by scikit-learn  :  [[-33.73541021   0.55920496]]\n",
      "Solution found by (5):  [[-33.73541021   0.55920496]]\n"
     ]
    }
   ],
   "source": [
    "from sklearn import datasets, linear_model\n",
    "\n",
    "# fit the model by Linear Regression\n",
    "regr = linear_model.LinearRegression(fit_intercept=False) # fit_intercept = False for calculating the bias\n",
    "regr.fit(xBar, weight)\n",
    "\n",
    "# Compare two results\n",
    "print( 'Solution found by scikit-learn  : ', regr.coef_ )\n",
    "print( 'Solution found by (5): ', w.T)"
   ]
  },
  {
   "cell_type": "markdown",
   "metadata": {},
   "source": [
    "### **Test manual loop to find fitting line**"
   ]
  },
  {
   "cell_type": "code",
   "execution_count": 35,
   "metadata": {},
   "outputs": [
    {
     "name": "stdout",
     "output_type": "stream",
     "text": [
      "   height  weight\n",
      "0   147.0    49.0\n",
      "1   150.0    50.0\n",
      "2   153.0    51.0\n",
      "3   155.0    52.0\n"
     ]
    }
   ],
   "source": [
    "import pandas as pd\n",
    "data = pd.read_csv('./dataset/height_weight.csv')\n",
    "data = data.iloc[0:4]\n",
    "print(data)"
   ]
  },
  {
   "cell_type": "code",
   "execution_count": 36,
   "metadata": {},
   "outputs": [
    {
     "data": {
      "image/png": "[encoded data removed]",
      "text/plain": [
       "<Figure size 640x480 with 1 Axes>"
      ]
     },
     "metadata": {},
     "output_type": "display_data"
    }
   ],
   "source": [
    "plt.scatter(data.height, data. weight)\n",
    "plt.show()"
   ]
  },
  {
   "cell_type": "markdown",
   "metadata": {},
   "source": [
    "### $$y=mx+b$$\n",
    "Set m = 0, b = 0"
   ]
  },
  {
   "cell_type": "code",
   "execution_count": 37,
   "metadata": {},
   "outputs": [
    {
     "name": "stdout",
     "output_type": "stream",
     "text": [
      "   height  weight  predicted_weight    loss\n",
      "0   147.0    49.0               0.0  2401.0\n",
      "1   150.0    50.0               0.0  2500.0\n",
      "2   153.0    51.0               0.0  2601.0\n",
      "3   155.0    52.0               0.0  2704.0\n",
      "10206.0\n"
     ]
    }
   ],
   "source": [
    "m = 0\n",
    "# m = 0.25\n",
    "b = 0\n",
    "# b = 12\n",
    "data[\"predicted_weight\"] = data.apply(lambda row: row['height'] * m + b, axis=1)\n",
    "data[\"loss\"] = data.apply(lambda row: (row['weight'] - row['predicted_weight']) ** 2, axis=1)\n",
    "loss = data['loss'].sum()\n",
    "print(data)\n",
    "print(loss)"
   ]
  },
  {
   "cell_type": "code",
   "execution_count": 38,
   "metadata": {},
   "outputs": [
    {
     "name": "stdout",
     "output_type": "stream",
     "text": [
      "546.9375 644.4375\n",
      "457.4375 546.9375\n",
      "375.9375 457.4375\n",
      "302.4375 375.9375\n",
      "236.9375 302.4375\n",
      "179.4375 236.9375\n",
      "129.9375 179.4375\n",
      "88.4375 129.9375\n",
      "54.9375 88.4375\n",
      "29.4375 54.9375\n",
      "11.9375 29.4375\n",
      "2.4375 11.9375\n",
      "0.9375 2.4375\n",
      "7.4375 0.9375\n",
      "2730.75 2525.75\n",
      "16357.4375 15849.9375\n",
      "41427.0 40617.0\n",
      "77939.4375 76826.9375\n",
      "125894.75 124479.75\n",
      "185292.9375 183575.4375\n",
      "256134.0 254114.0\n",
      "338417.9375 336095.4375\n",
      "432144.75 429519.75\n"
     ]
    }
   ],
   "source": [
    "# Calculate m, b\n",
    "linear_data = pd.DataFrame({'m': [], 'b': [], 'loss': []})\n",
    "for j in range(10):\n",
    "    m += 0.25\n",
    "    b = 0\n",
    "    data[\"predicted_weight\"] = data.apply(lambda row: row['height'] * m + b, axis=1)\n",
    "    data[\"loss\"] = data.apply(lambda row: (row['weight'] - row['predicted_weight']) ** 2, axis=1)\n",
    "    loss = data['loss'].sum()\n",
    "    for i in range(100):\n",
    "        b += 1\n",
    "        data[\"predicted_weight\"] = data.apply(lambda row: row['height'] * m + b, axis=1)\n",
    "        data[\"loss\"] = data.apply(lambda row: (row['weight'] - row['predicted_weight']) ** 2, axis=1)\n",
    "        loss_temp = data['loss'].sum()\n",
    "        print(loss_temp, loss)\n",
    "        if (loss_temp < loss):\n",
    "            loss = loss_temp\n",
    "        else:\n",
    "            linear_data.loc[len(linear_data.index)] = [m, b, loss]\n",
    "            break"
   ]
  },
  {
   "cell_type": "code",
   "execution_count": 39,
   "metadata": {},
   "outputs": [
    {
     "name": "stdout",
     "output_type": "stream",
     "text": [
      "      m     b         loss\n",
      "0  0.25  14.0       0.9375\n",
      "1  0.50   1.0    2525.7500\n",
      "2  0.75   1.0   15849.9375\n",
      "3  1.00   1.0   40617.0000\n",
      "4  1.25   1.0   76826.9375\n",
      "5  1.50   1.0  124479.7500\n",
      "6  1.75   1.0  183575.4375\n",
      "7  2.00   1.0  254114.0000\n",
      "8  2.25   1.0  336095.4375\n",
      "9  2.50   1.0  429519.7500\n"
     ]
    }
   ],
   "source": [
    "print(linear_data)"
   ]
  },
  {
   "cell_type": "markdown",
   "metadata": {},
   "source": [
    "=> b = 14\n",
    "=> m = 0.25"
   ]
  },
  {
   "cell_type": "code",
   "execution_count": 40,
   "metadata": {},
   "outputs": [
    {
     "name": "stdout",
     "output_type": "stream",
     "text": [
      "   height  weight  predicted_weight    loss\n",
      "0   147.0    49.0             50.75  3.0625\n",
      "1   150.0    50.0             51.50  2.2500\n",
      "2   153.0    51.0             52.25  1.5625\n",
      "3   155.0    52.0             52.75  0.5625\n"
     ]
    }
   ],
   "source": [
    "b = 14\n",
    "m = 0.25\n",
    "data[\"predicted_weight\"] = data.apply(lambda row: row['height'] * m + b, axis=1)\n",
    "data[\"loss\"] = data.apply(lambda row: (row['weight'] - row['predicted_weight']) ** 2, axis=1)\n",
    "print(data)"
   ]
  },
  {
   "cell_type": "code",
   "execution_count": 41,
   "metadata": {},
   "outputs": [
    {
     "data": {
      "image/png": "[encoded data removed]",
      "text/plain": [
       "<Figure size 640x480 with 1 Axes>"
      ]
     },
     "metadata": {},
     "output_type": "display_data"
    }
   ],
   "source": [
    "plt.scatter(data.height, data.weight)\n",
    "plt.plot(data['height'], data['predicted_weight'], color='red') # the fitting line\n",
    "plt.axis([145, 160, 45, 55])\n",
    "plt.show()"
   ]
  }
 ],
 "metadata": {
  "kernelspec": {
   "display_name": "Python 3",
   "language": "python",
   "name": "python3"
  },
  "language_info": {
   "codemirror_mode": {
    "name": "ipython",
    "version": 3
   },
   "file_extension": ".py",
   "mimetype": "text/x-python",
   "name": "python",
   "nbconvert_exporter": "python",
   "pygments_lexer": "ipython3",
   "version": "3.11.8"
  }
 },
 "nbformat": 4,
 "nbformat_minor": 2
}
